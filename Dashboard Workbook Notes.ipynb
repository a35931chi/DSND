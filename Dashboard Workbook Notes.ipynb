{
 "cells": [
  {
   "cell_type": "markdown",
   "metadata": {},
   "source": [
    "Steps\n",
    "\n",
    "Here is a reminder of the steps you'll need to do:\n",
    "\n",
    "- find a data set or a few data sets that you're interested in\n",
    "- explore and clean the data set\n",
    "- put the data into a csv file or files - you can use pandas or a spreadsheet software to do this\n",
    "- upload your data sets to the correct folder\n",
    "- write a Python script to read in the data set and set up the Plotly visualizations\n",
    "- set up a virtual environment and install the necessary libraries to run your app\n",
    "- run your web app locally to make sure that everything works\n",
    "- deploy the app to Heroku or some other back-end service"
   ]
  },
  {
   "cell_type": "code",
   "execution_count": null,
   "metadata": {},
   "outputs": [],
   "source": []
  }
 ],
 "metadata": {
  "kernelspec": {
   "display_name": "Python 3",
   "language": "python",
   "name": "python3"
  },
  "language_info": {
   "codemirror_mode": {
    "name": "ipython",
    "version": 3
   },
   "file_extension": ".py",
   "mimetype": "text/x-python",
   "name": "python",
   "nbconvert_exporter": "python",
   "pygments_lexer": "ipython3",
   "version": "3.5.3"
  }
 },
 "nbformat": 4,
 "nbformat_minor": 2
}
