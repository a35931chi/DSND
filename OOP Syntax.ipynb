{
 "cells": [
  {
   "cell_type": "code",
   "execution_count": 1,
   "metadata": {},
   "outputs": [],
   "source": [
    "class Shirt:\n",
    "    def __init__(self, shirt_color, shirt_size, shirt_style, shirt_price):\n",
    "        self.color = shirt_color\n",
    "        self.size = shirt_size\n",
    "        self.style = shirt_style\n",
    "        self.price = shirt_price\n",
    "        \n",
    "    def change_price(self, new_price):\n",
    "        self.price = new_price\n",
    "        \n",
    "    def discount(self, discount):\n",
    "        return self.price * (1 - discount)"
   ]
  },
  {
   "cell_type": "code",
   "execution_count": 2,
   "metadata": {},
   "outputs": [
    {
     "data": {
      "text/plain": [
       "<__main__.Shirt at 0x156d3518c88>"
      ]
     },
     "execution_count": 2,
     "metadata": {},
     "output_type": "execute_result"
    }
   ],
   "source": [
    "Shirt('red', 'S', 'short sleeve', 15)"
   ]
  },
  {
   "cell_type": "code",
   "execution_count": 12,
   "metadata": {},
   "outputs": [],
   "source": [
    "new_shirt = Shirt('red', 'S', 'short sleeve', 15)"
   ]
  },
  {
   "cell_type": "code",
   "execution_count": 13,
   "metadata": {},
   "outputs": [
    {
     "name": "stdout",
     "output_type": "stream",
     "text": [
      "red\n",
      "S\n",
      "short sleeve\n",
      "15\n"
     ]
    }
   ],
   "source": [
    "print(new_shirt.color)\n",
    "print(new_shirt.size)\n",
    "print(new_shirt.style)\n",
    "print(new_shirt.price)"
   ]
  },
  {
   "cell_type": "code",
   "execution_count": 16,
   "metadata": {},
   "outputs": [
    {
     "name": "stdout",
     "output_type": "stream",
     "text": [
      "10\n"
     ]
    }
   ],
   "source": [
    "new_shirt.change_price(10)\n",
    "print(new_shirt.price)"
   ]
  },
  {
   "cell_type": "code",
   "execution_count": 17,
   "metadata": {},
   "outputs": [
    {
     "name": "stdout",
     "output_type": "stream",
     "text": [
      "testing discount method:  8.0\n",
      "did the price change? 10\n",
      "did the price change? 8.0\n"
     ]
    }
   ],
   "source": [
    "print('testing discount method: ', new_shirt.discount(.2))\n",
    "print('did the price change?', new_shirt.price)\n",
    "new_shirt.price = new_shirt.discount(.2)\n",
    "print('did the price change?', new_shirt.price)"
   ]
  },
  {
   "cell_type": "code",
   "execution_count": 9,
   "metadata": {},
   "outputs": [
    {
     "name": "stdout",
     "output_type": "stream",
     "text": [
      "orange\n",
      "red\n",
      "purple\n"
     ]
    }
   ],
   "source": [
    "tshirt_collection = []\n",
    "shirt_one = Shirt('orange', 'M', 'short sleeve', 25)\n",
    "shirt_two = Shirt('red', 'S', 'short sleeve', 15)\n",
    "shirt_three = Shirt('purple', 'XL', 'short sleeve', 10)\n",
    "\n",
    "tshirt_collection.append(shirt_one)\n",
    "tshirt_collection.append(shirt_two)\n",
    "tshirt_collection.append(shirt_three)\n",
    "\n",
    "for i in range(len(tshirt_collection)):\n",
    "    print(tshirt_collection[i].color)"
   ]
  },
  {
   "cell_type": "markdown",
   "metadata": {},
   "source": [
    "### Exercise: OOP Syntax Practice - Part 1"
   ]
  },
  {
   "cell_type": "markdown",
   "metadata": {},
   "source": [
    "# Use the Shirt Class\n",
    "\n",
    "You've seen what a class looks like and how to instantiate an object. Now it's your turn to write code that insantiates a shirt object.\n",
    "\n",
    "# Explanation of the Code\n",
    "This Jupyter notebook is inside of a folder called 1.OOP_syntax_shirt_practice. You can see the folder if you click on the \"Jupyter\" logo above the notebook. Inside the folder are three files:\n",
    "- shirt.py containing a Shirt class definition\n",
    "- shirt_exercise.ipynb, which is the file you are currently looking at\n",
    "- answer.py containing answers to the exercise\n",
    "- tests.py, tests for checking your code - you can run these tests using the last code cell at the bottom of thie notebook\n",
    "\n",
    "# Your Task\n",
    "The shirt_exercise.ipynb file, which you are currently looking at if you are reading this, has an exercise to help guide you through coding with an object in Python.\n",
    "\n",
    "Fill out the TODOs in each section of the Jupyter notebook. You can find a solution in the answer.py file.\n",
    "\n",
    "First, run this code cell below to load the Shirt class."
   ]
  },
  {
   "cell_type": "code",
   "execution_count": null,
   "metadata": {},
   "outputs": [],
   "source": [
    "class Shirt:\n",
    "\n",
    "    def __init__(self, shirt_color, shirt_size, shirt_style, shirt_price):\n",
    "        self.color = shirt_color\n",
    "        self.size = shirt_size\n",
    "        self.style = shirt_style\n",
    "        self.price = shirt_price\n",
    "    \n",
    "    def change_price(self, new_price):\n",
    "    \n",
    "        self.price = new_price\n",
    "        \n",
    "    def discount(self, discount):\n",
    "\n",
    "        return self.price * (1 - discount)"
   ]
  },
  {
   "cell_type": "code",
   "execution_count": null,
   "metadata": {},
   "outputs": [],
   "source": [
    "### TODO:\n",
    "#    - insantiate a shirt object with the following characteristics:\n",
    "#        - color red, size S, style long-sleeve, and price 25\n",
    "#    - store the object in a variable called shirt_one\n",
    "#\n",
    "#\n",
    "###\n",
    "shirt_one = Shirt('red', 'S', 'long-sleeve', 25)"
   ]
  },
  {
   "cell_type": "code",
   "execution_count": null,
   "metadata": {},
   "outputs": [],
   "source": [
    "### TODO:\n",
    "#     - print the price of the shirt using the price attribute\n",
    "#     - use the change_price method to change the price of the shirt to 10\n",
    "#     - print the price of the shirt using the price attribute\n",
    "#     - use the discount method to print the price of the shirt with a 12% discount\n",
    "#\n",
    "###\n",
    "print('original price: ', shirt_one.price)\n",
    "shirt_one.change_price(10)\n",
    "print('new price: ', shirt_one.price)\n",
    "print('discounted price: ', shirt_one.discount(0.12))"
   ]
  },
  {
   "cell_type": "code",
   "execution_count": null,
   "metadata": {},
   "outputs": [],
   "source": [
    "### TODO:\n",
    "#\n",
    "#    - instantiate another object with the following characteristics:\n",
    "# .       - color orange, size L, style short-sleeve, and price 10\n",
    "#    - store the object in a variable called shirt_two\n",
    "#\n",
    "###\n",
    "shirt_two = Shirt('orange', 'L', 'short-sleeve', 10)"
   ]
  },
  {
   "cell_type": "code",
   "execution_count": null,
   "metadata": {},
   "outputs": [],
   "source": [
    "### TODO:\n",
    "#\n",
    "#    - calculate the total cost of shirt_one and shirt_two\n",
    "#    - store the results in a variable called total\n",
    "#    \n",
    "###\n",
    "total = shirt_one.price + shirt_two.price"
   ]
  },
  {
   "cell_type": "code",
   "execution_count": null,
   "metadata": {},
   "outputs": [],
   "source": [
    "### TODO:\n",
    "#\n",
    "#    - use the shirt discount method to calculate the total cost if\n",
    "#       shirt_one has a discount of 14% and shirt_two has a discount\n",
    "#       of 6%\n",
    "#    - store the results in a variable called total_discount\n",
    "###\n",
    "total_discount = shirt_one.discount(0.14) + shirt_two.discount(0.04)"
   ]
  },
  {
   "cell_type": "markdown",
   "metadata": {},
   "source": [
    "# Test your Code\n",
    "\n",
    "The code cell below has assert statements that you can run to check your work. Run the next code cell. The code will produce an error if your answers in this exercise are not what was expected. Keep working on your code until all tests are passing.\n",
    "\n",
    "As mentioned previously, there's also a file with a solution. To find the solution, click on the Jupyter logo at the top of the workspace, and then enter the folder titled 1.OOP_syntax_shirt_practice"
   ]
  },
  {
   "cell_type": "code",
   "execution_count": null,
   "metadata": {},
   "outputs": [],
   "source": [
    "# Unit tests to check your solution\n",
    "from tests import run_tests\n",
    "\n",
    "run_tests(shirt_one, shirt_two, total, total_discount)"
   ]
  },
  {
   "cell_type": "markdown",
   "metadata": {},
   "source": [
    "# OOP Syntax Exercise - Part 2\n",
    "\n",
    "Now that you've had some practice instantiating objects, it's time to write your own class from scratch. This lesson has two parts. In the first part, you'll write a Pants class. This class is similar to the shirt class with a couple of changes. Then you'll practice instantiating Pants objects\n",
    "\n",
    "In the second part, you'll write another class called SalesPerson. You'll also instantiate objects for the SalesPerson.\n",
    "\n",
    "For this exercise, you can do all of your work in this Jupyter notebook. You will not need to import the class because all of your code will be in this Jupyter notebook.\n",
    "\n",
    "Answers are also provided. If you click on the Jupyter icon, you can open a folder called 2.OOP_syntax_pants_practice, which contains this Jupyter notebook and a file called answer.py."
   ]
  },
  {
   "cell_type": "markdown",
   "metadata": {},
   "source": [
    "# Pants class\n",
    "\n",
    "Write a Pants class with the following characteristics:\n",
    "* the class name should be Pants\n",
    "* the class attributes should include\n",
    " * color\n",
    " * waist_size\n",
    " * length\n",
    " * price\n",
    "* the class should have an init function that initializes all of the attributes\n",
    "* the class should have two methods\n",
    " * change_price() a method to change the price attribute\n",
    " * discount() to calculate a discount"
   ]
  },
  {
   "cell_type": "code",
   "execution_count": null,
   "metadata": {},
   "outputs": [],
   "source": [
    "### TODO:\n",
    "#   - code a Pants class with the following attributes\n",
    "#   - color (string) eg 'red', 'yellow', 'orange'\n",
    "#   - waist_size (integer) eg 8, 9, 10, 32, 33, 34\n",
    "#   - length (integer) eg 27, 28, 29, 30, 31\n",
    "#   - price (float) eg 9.28\n",
    "\n",
    "### TODO: Declare the Pants Class \n",
    "\n",
    "class Pants:\n",
    "    \n",
    "### TODO: write an __init__ function to initialize the attributes\n",
    "\n",
    "    def __init__(self, color, waist_size, length, price):\n",
    "        self.color = color\n",
    "        self.waist_size = waist_size\n",
    "        self.length = length\n",
    "        self.price = price\n",
    "\n",
    "### TODO: write a change_price method:\n",
    "#    Args:\n",
    "#        new_price (float): the new price of the shirt\n",
    "#    Returns:\n",
    "#        None\n",
    "\n",
    "    def change_price(self, new_price):\n",
    "        self.price = new_price\n",
    "\n",
    "### TODO: write a discount method:\n",
    "#    Args:\n",
    "#        discount (float): a decimal value for the discount. \n",
    "#            For example 0.05 for a 5% discount.\n",
    "#\n",
    "#    Returns:\n",
    "#        float: the discounted price\n",
    "\n",
    "    def discount(self, discount):\n",
    "        return self.price * (1 - discount)"
   ]
  },
  {
   "cell_type": "markdown",
   "metadata": {},
   "source": [
    "# Run the code cell below to check results\n",
    "\n",
    "If you run the next code cell and get an error, then revise your code until the code cell doesn't output anything."
   ]
  },
  {
   "cell_type": "code",
   "execution_count": null,
   "metadata": {},
   "outputs": [],
   "source": [
    "def check_results():\n",
    "    pants = Pants('red', 35, 36, 15.12)\n",
    "    assert pants.color == 'red'\n",
    "    assert pants.waist_size == 35\n",
    "    assert pants.length == 36\n",
    "    assert pants.price == 15.12\n",
    "    \n",
    "    pants.change_price(10) == 10\n",
    "    assert pants.price == 10 \n",
    "    \n",
    "    assert pants.discount(.1) == 9\n",
    "    \n",
    "    print('You made it to the end of the check. Nice job!')\n",
    "\n",
    "check_results()"
   ]
  },
  {
   "cell_type": "markdown",
   "metadata": {},
   "source": [
    "# SalesPerson class\n",
    "\n",
    "The Pants class and Shirt class are quite similar. Here is an exercise to give you more practice writing a class. **This exercise is trickier than the previous exercises.**\n",
    "\n",
    "Write a SalesPerson class with the following characteristics:\n",
    "* the class name should be SalesPerson\n",
    "* the class attributes should include\n",
    " * first_name \n",
    " * last_name\n",
    " * employee_id\n",
    " * salary\n",
    " * pants_sold\n",
    " * total_sales\n",
    "* the class should have an init function that initializes all of the attributes\n",
    "* the class should have three methods\n",
    " * sell_pants() a method to change the price attribute\n",
    " * display_sales() a method to print out all the pants sold with nice formatting\n",
    " * calculate_commission() a method to calculate the salesperson commission based on total sales and a percentage"
   ]
  },
  {
   "cell_type": "code",
   "execution_count": null,
   "metadata": {},
   "outputs": [],
   "source": [
    "### TODO:\n",
    "#   Code a SalesPerson class with the following attributes\n",
    "#   - first_name (string), the first name of the salesperson\n",
    "#   - last_name (string), the last name of the salesperson\n",
    "#   - employee_id (int), the employee ID number like 5681923\n",
    "#   - salary (float), the monthly salary of the employee\n",
    "#   - pants_sold (list of Pants objects), \n",
    "#            pants that the salesperson has sold \n",
    "#   - total_sales (float), sum of sales of pants sold\n",
    "\n",
    "### TODO: Declare the SalesPerson Class \n",
    "class SalesPerson:\n",
    "### TODO: write an __init__ function to initialize the attributes\n",
    "###    Input Args for the __init__ function:\n",
    "#        first_name (str)\n",
    "#        last_name (str)\n",
    "#        employee_id (int)\n",
    "# .      salary (float)\n",
    "#\n",
    "# You can initialize pants_sold as an empty list\n",
    "# You can initialize total_sales to zero.\n",
    "#\n",
    "###\n",
    "\n",
    "    def __init__(self, first_name, last_name, employee_id, salary):\n",
    "        self.pants_sold = []\n",
    "        self.total_sales = 0\n",
    "        self.first_name = first_name\n",
    "        self.last_name = last_name\n",
    "        self.employee_id = employee_id\n",
    "        self.salary = salary\n",
    "        \n",
    "### TODO: write a sell_pants method:\n",
    "#\n",
    "#    This method receives a Pants object and appends\n",
    "#    the object to the pants_sold attribute list\n",
    "#\n",
    "#    Args:\n",
    "#        pants (Pants object): a pants object\n",
    "#    Returns:\n",
    "#        None\n",
    "\n",
    "    def sell_pants(self, pants):\n",
    "        self.pants_sold.append(pants)\n",
    "        \n",
    "### TODO: write a display_sales method:\n",
    "#    \n",
    "#    This method has no input or outputs. When this method \n",
    "#    is called, the code iterates through the pants_sold list\n",
    "#    and prints out the characteristics of each pair of pants\n",
    "#    line by line. The print out should look something like this\n",
    "#\n",
    "#   color: blue, waist_size: 34, length: 34, price: 10\n",
    "#   color: red, waist_size: 36, length: 30, price: 14.15\n",
    "#\n",
    "#\n",
    "#\n",
    "###\n",
    "\n",
    "    def display_sales(self):\n",
    "        for pants in self.pants_sold:\n",
    "            print('color: {}, waist_size: {}, length: {}, price: {}'.format(pants.color, pants.waist_size, \n",
    "                                                                            pants.length, pants.price))\n",
    "\n",
    "### TODO: write a calculate_sales method:\n",
    "#      This method calculates the total sales for the sales person.\n",
    "#      The method should iterate through the pants_sold attribute list\n",
    "#      and sum the prices of the pants sold. The sum should be stored\n",
    "#      in the total_sales attribute and then return the total.\n",
    "#      \n",
    "#      Args:\n",
    "#        None\n",
    "#      Returns:\n",
    "#        float: total sales\n",
    "#\n",
    "###  \n",
    "\n",
    "    def calculate_sales(self):\n",
    "        total_sales = 0\n",
    "        for pants in self.pants_sold:\n",
    "            total_sales += pants.price\n",
    "        return total_sales\n",
    "\n",
    "### TODO: write a calculate_commission method:\n",
    "#\n",
    "#   The salesperson receives a commission based on the total\n",
    "#   sales of pants. The method receives a percentage, and then\n",
    "#   calculate the total sales of pants based on the price,\n",
    "#   and then returns the commission as (percentage * total sales)\n",
    "#\n",
    "#    Args:\n",
    "#        percentage (float): comission percentage as a decimal\n",
    "#\n",
    "#    Returns:\n",
    "#        float: total comission\n",
    "#\n",
    "#\n",
    "###\n",
    "\n",
    "    def calculate_commission(self, percentage):\n",
    "        return percentage * self.calculate_sales()"
   ]
  },
  {
   "cell_type": "markdown",
   "metadata": {},
   "source": [
    "# Run the code cell below to check results\n",
    "\n",
    "If you run the next code cell and get an error, then revise your code until the code cell doesn't output anything."
   ]
  },
  {
   "cell_type": "code",
   "execution_count": null,
   "metadata": {},
   "outputs": [],
   "source": [
    "def check_results():\n",
    "    pants_one = Pants('red', 35, 36, 15.12)\n",
    "    pants_two = Pants('blue', 40, 38, 24.12)\n",
    "    pants_three = Pants('tan', 28, 30, 8.12)\n",
    "    \n",
    "    salesperson = SalesPerson('Amy', 'Gonzalez', 2581923, 40000)\n",
    "    \n",
    "    assert salesperson.first_name == 'Amy'\n",
    "    assert salesperson.last_name == 'Gonzalez'\n",
    "    assert salesperson.employee_id == 2581923\n",
    "    assert salesperson.salary == 40000\n",
    "    assert salesperson.pants_sold == []\n",
    "    assert salesperson.total_sales == 0\n",
    "    \n",
    "    salesperson.sell_pants(pants_one)\n",
    "    salesperson.pants_sold[0] == pants_one.color\n",
    "    \n",
    "    salesperson.sell_pants(pants_two)\n",
    "    salesperson.sell_pants(pants_three)\n",
    "    \n",
    "    assert len(salesperson.pants_sold) == 3\n",
    "    assert round(salesperson.calculate_sales(),2) == 47.36\n",
    "    assert round(salesperson.calculate_commission(.1),2) == 4.74\n",
    "    \n",
    "    print('Great job, you made it to the end of the code checks!')\n",
    "    \n",
    "check_results()"
   ]
  },
  {
   "cell_type": "markdown",
   "metadata": {},
   "source": [
    "### Check display_sales() method\n",
    "\n",
    "If you run the code cell below, you should get output similar to this:\n",
    "\n",
    "```python\n",
    "color: red, waist_size: 35, length: 36, price: 15.12\n",
    "color: blue, waist_size: 40, length: 38, price: 24.12\n",
    "color: tan, waist_size: 28, length: 30, price: 8.12\n",
    "```"
   ]
  },
  {
   "cell_type": "code",
   "execution_count": null,
   "metadata": {},
   "outputs": [],
   "source": [
    "pants_one = Pants('red', 35, 36, 15.12)\n",
    "pants_two = Pants('blue', 40, 38, 24.12)\n",
    "pants_three = Pants('tan', 28, 30, 8.12)\n",
    "\n",
    "salesperson = SalesPerson('Amy', 'Gonzalez', 2581923, 40000)\n",
    "\n",
    "salesperson.sell_pants(pants_one)    \n",
    "salesperson.sell_pants(pants_two)\n",
    "salesperson.sell_pants(pants_three)\n",
    "\n",
    "salesperson.display_sales()"
   ]
  }
 ],
 "metadata": {
  "kernelspec": {
   "display_name": "Python 3",
   "language": "python",
   "name": "python3"
  },
  "language_info": {
   "codemirror_mode": {
    "name": "ipython",
    "version": 3
   },
   "file_extension": ".py",
   "mimetype": "text/x-python",
   "name": "python",
   "nbconvert_exporter": "python",
   "pygments_lexer": "ipython3",
   "version": "3.5.4"
  }
 },
 "nbformat": 4,
 "nbformat_minor": 2
}
