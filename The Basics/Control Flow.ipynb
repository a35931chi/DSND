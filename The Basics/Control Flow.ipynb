{
 "cells": [
  {
   "cell_type": "markdown",
   "metadata": {},
   "source": [
    "Conditional Statements"
   ]
  },
  {
   "cell_type": "code",
   "execution_count": 2,
   "metadata": {},
   "outputs": [
    {
     "name": "stdout",
     "output_type": "stream",
     "text": [
      "stay indoors!\n"
     ]
    }
   ],
   "source": [
    "season = 'winter'\n",
    "if season == 'spring':\n",
    "    print('plant the garden!')\n",
    "elif season == 'summer':\n",
    "    print('water the garden!')\n",
    "elif season == 'fall':\n",
    "    print('harvest the garden!')\n",
    "elif season == 'winter':\n",
    "    print('stay indoors!')\n",
    "else:\n",
    "    print('unrecognized season')"
   ]
  },
  {
   "cell_type": "code",
   "execution_count": 3,
   "metadata": {},
   "outputs": [
    {
     "name": "stdout",
     "output_type": "stream",
     "text": [
      "10\n",
      "50\n",
      "Number 145 is odd.\n",
      "Somebody who is 35 years old will pay $2.5 to ride the bus.\n"
     ]
    }
   ],
   "source": [
    "#First Example - try changing the value of phone_balance\n",
    "phone_balance = 10\n",
    "bank_balance = 50\n",
    "\n",
    "if phone_balance < 10:\n",
    "    phone_balance += 10\n",
    "    bank_balance -= 10\n",
    "\n",
    "print(phone_balance)\n",
    "print(bank_balance)\n",
    "#both will print, 10 and 50\n",
    "\n",
    "#Second Example - try changing the value of number\n",
    "\n",
    "number = 145\n",
    "if number % 2 == 0:\n",
    "    print(\"Number \" + str(number) + \" is even.\")\n",
    "else:\n",
    "    print(\"Number \" + str(number) + \" is odd.\")\n",
    "\n",
    "#will print odd\n",
    "\n",
    "#Third Example - try to change the value of age\n",
    "age = 35\n",
    "\n",
    "# Here are the age limits for bus fares\n",
    "free_up_to_age = 4\n",
    "child_up_to_age = 18\n",
    "senior_from_age = 65\n",
    "\n",
    "# These lines determine the bus fare prices\n",
    "concession_ticket = 1.25\n",
    "adult_ticket = 2.50\n",
    "\n",
    "# Here is the logic for bus fare prices\n",
    "if age <= free_up_to_age:\n",
    "    ticket_price = 0\n",
    "elif age <= child_up_to_age:\n",
    "    ticket_price = concession_ticket\n",
    "elif age >= senior_from_age:\n",
    "    ticket_price = concession_ticket\n",
    "else:\n",
    "    ticket_price = adult_ticket\n",
    "\n",
    "message = \"Somebody who is {} years old will pay ${} to ride the bus.\".format(age, ticket_price)\n",
    "print(message)\n",
    "#print 2.5"
   ]
  },
  {
   "cell_type": "code",
   "execution_count": 4,
   "metadata": {},
   "outputs": [
    {
     "name": "stdout",
     "output_type": "stream",
     "text": [
      "Congratulations! You won a wafer-thin mint!\n"
     ]
    }
   ],
   "source": [
    "# Question: \n",
    "points = 174  # use this input to make your submission\n",
    "\n",
    "# write your if statement here\n",
    "if points <= 50:\n",
    "    result = 'wooden rabbit'\n",
    "elif points <= 150:\n",
    "    result = 'no prize'\n",
    "elif points <= 180:\n",
    "    result = 'wafer-thin mint'\n",
    "elif points <= 200:\n",
    "    result = 'penguin'\n",
    "else:\n",
    "    result = 'unknown'\n",
    "\n",
    "if result == 'unknown':\n",
    "    print(\"Oh dear, no prize this time.\")\n",
    "else:\n",
    "    print(\"Congratulations! You won a {}!\".format(result))"
   ]
  },
  {
   "cell_type": "code",
   "execution_count": 5,
   "metadata": {},
   "outputs": [
    {
     "name": "stdout",
     "output_type": "stream",
     "text": [
      "Congratulations! You won a wafer-thin mint!\n"
     ]
    }
   ],
   "source": [
    "#Answer: \n",
    "points = 174\n",
    "\n",
    "if points <= 50:\n",
    "    result = \"Congratulations! You won a wooden rabbit!\"\n",
    "elif points <= 150:\n",
    "    result = \"Oh dear, no prize this time.\"\n",
    "elif points <= 180:\n",
    "    result = \"Congratulations! You won a wafer-thin mint!\"\n",
    "else:\n",
    "    result = \"Congratulations! You won a penguin!\"\n",
    "\n",
    "print(result)"
   ]
  },
  {
   "cell_type": "code",
   "execution_count": null,
   "metadata": {},
   "outputs": [],
   "source": [
    "#Question:\n",
    "# '''\n",
    "# You decide you want to play a game where you are hiding \n",
    "# a number from someone.  Store this number in a variable \n",
    "# called 'answer'.  Another user provides a number called\n",
    "# 'guess'.  By comparing guess to answer, you inform the user\n",
    "# if their guess is too high or too low.\n",
    "\n",
    "# Fill in the conditionals below to inform the user about how\n",
    "# their guess compares to the answer.\n",
    "# '''\n",
    "answer = 10\n",
    "guess = 20\n",
    "\n",
    "if answer < guess: #provide conditional\n",
    "    result = \"Oops!  Your guess was too low.\"\n",
    "elif answer > guess: #provide conditional\n",
    "    result = \"Oops!  Your guess was too high.\"\n",
    "elif answer == guess: #provide conditional\n",
    "    result = \"Nice!  Your guess matched the answer!\"\n",
    "\n",
    "print(result)"
   ]
  },
  {
   "cell_type": "code",
   "execution_count": null,
   "metadata": {},
   "outputs": [],
   "source": [
    "#Answer:\n",
    "answer = 35\n",
    "guess = 30   # this is just a sample answer and guess\n",
    "\n",
    "if guess < answer:\n",
    "    result = \"Oops!  Your guess was too low.\"\n",
    "elif guess > answer:\n",
    "   result = \"Oops!  Your guess was too high.\"\n",
    "elif guess==answer:\n",
    "    result = \"Nice!  Your guess matched the answer!\"\n",
    "print(result)"
   ]
  },
  {
   "cell_type": "code",
   "execution_count": null,
   "metadata": {},
   "outputs": [],
   "source": [
    "#Question:\n",
    "# '''\n",
    "# Depending on where an individual is from we need to tax them \n",
    "# appropriately.  The states of CA, MN, and \n",
    "# NY have taxes of 7.5%, 9.5%, and 8.9% respectively.\n",
    "# Use this information to take the amount of a purchase and \n",
    "# the corresponding state to assure that they are taxed by the right\n",
    "# amount.\n",
    "# '''\n",
    "state = 'CA' #Either CA, MN, or NY\n",
    "purchase_amount = 10000 #amount of purchase\n",
    "\n",
    "if state == 'CA': #provide conditional for checking state is CA\n",
    "    tax_amount = .075\n",
    "    total_cost = purchase_amount*(1+tax_amount)\n",
    "    result = \"Since you're from {}, your total cost is {}.\".format(state, total_cost)\n",
    "\n",
    "elif state == 'MN': #provide conditional for checking state is MN\n",
    "    tax_amount = .095\n",
    "    total_cost = purchase_amount*(1+tax_amount)\n",
    "    result = \"Since you're from {}, your total cost is {}.\".format(state, total_cost)\n",
    "\n",
    "elif state == 'NY': #provide conditional for checking state is NY\n",
    "    tax_amount = .089\n",
    "    total_cost = purchase_amount*(1+tax_amount)\n",
    "    result = \"Since you're from {}, your total cost is {}.\".format(state, total_cost)\n",
    "\n",
    "print(result)"
   ]
  },
  {
   "cell_type": "code",
   "execution_count": null,
   "metadata": {},
   "outputs": [],
   "source": [
    "#Answer:\n",
    "state = 'CA'\n",
    "purchase_amount = 20.00    # a sample state and purchase amount\n",
    "\n",
    "if state == 'CA':\n",
    "    tax_amount = .075\n",
    "    total_cost = purchase_amount*(1+tax_amount)\n",
    "    result = \"Since you're from {}, your total cost is {}.\".format(state, total_cost)\n",
    "\n",
    "elif state == 'MN':\n",
    "    tax_amount = .095\n",
    "    total_cost = purchase_amount*(1+tax_amount)\n",
    "    result = \"Since you're from {}, your total cost is {}.\".format(state, total_cost)\n",
    "\n",
    "elif state == 'NY':\n",
    "    tax_amount = .089\n",
    "    total_cost = purchase_amount*(1+tax_amount)\n",
    "    result = \"Since you're from {}, your total cost is {}.\".format(state, total_cost)\n",
    "\n",
    "print(result)"
   ]
  },
  {
   "cell_type": "markdown",
   "metadata": {},
   "source": [
    "Boolean Expression for Conditional Statements"
   ]
  },
  {
   "cell_type": "code",
   "execution_count": null,
   "metadata": {},
   "outputs": [],
   "source": [
    "if 18.5 <= weight / height**2 < 25:\n",
    "    print(\"BMI is considered 'normal'\")\n",
    "\n",
    "if is_raining and is_sunny:\n",
    "    print(\"Is there a rainbow?\")\n",
    "\n",
    "if (not unsubscribed) and (location == \"USA\" or location == \"CAN\"):\n",
    "    print(\"send email\")"
   ]
  },
  {
   "cell_type": "code",
   "execution_count": null,
   "metadata": {},
   "outputs": [],
   "source": [
    "# Bad examples\n",
    "\n",
    "#Don't use True or False as conditions\n",
    "if True:\n",
    "    print(\"This indented code will always get run.\")\n",
    "    \n",
    "if is_cold or not is_cold:\n",
    "    print(\"This indented code will always get run.\")\n",
    "\n",
    "#Be careful writing expressions that use logical operators\n",
    "if weather == \"snow\" or \"rain\":\n",
    "    print(\"Wear boots!\")\n",
    "\n",
    "#Don't compare a boolean variable with == True or == False\n",
    "if is_cold == True:\n",
    "    print(\"The weather is cold!\")"
   ]
  },
  {
   "cell_type": "code",
   "execution_count": null,
   "metadata": {},
   "outputs": [],
   "source": [
    "# Good example\n",
    "if is_cold:\n",
    "    print(\"The weather is cold!\")"
   ]
  },
  {
   "cell_type": "markdown",
   "metadata": {},
   "source": [
    "Truth Value Testing\n",
    "\n",
    "If we use a non-boolean object as a condition in an if statement in place of the boolean expression, Python will check for its truth value and use that to decide whether or not to run the indented code. By default, the truth value of an object in Python is considered True unless specified as False in the documentation.\n",
    "\n",
    "Here are most of the built-in objects that are considered False in Python:\n",
    "\n",
    "    constants defined to be false: None and False\n",
    "    zero of any numeric type: 0, 0.0, 0j, Decimal(0), Fraction(0, 1)\n",
    "    empty sequences and collections: '\"\", (), [], {}, set(), range(0)\n"
   ]
  },
  {
   "cell_type": "code",
   "execution_count": null,
   "metadata": {},
   "outputs": [],
   "source": [
    "errors = 3\n",
    "if errors:\n",
    "    print(\"You have {} errors to fix!\".format(errors))\n",
    "else:\n",
    "    print(\"No errors to fix!\")"
   ]
  },
  {
   "cell_type": "code",
   "execution_count": null,
   "metadata": {},
   "outputs": [],
   "source": [
    "#Question:\n",
    "points = 174  # use this as input for your submission\n",
    "\n",
    "# establish the default prize value to None\n",
    "prize = None\n",
    "\n",
    "# use the points value to assign prizes to the correct prize names\n",
    "if points <= 50:\n",
    "    prize = 'wooden rabbit'\n",
    "elif points <= 150:\n",
    "    prize = None\n",
    "elif points <= 180:\n",
    "    prize = 'wafer-thin mint!'\n",
    "else:\n",
    "    prize = 'penguin'\n",
    "    \n",
    "# use the truth value of prize to assign result to the correct prize\n",
    "\n",
    "if prize:\n",
    "    print(\"Congratulations! You won a {}\".format(prize))\n",
    "else:\n",
    "    print(\"Oh dear, no prize this time.\")"
   ]
  },
  {
   "cell_type": "code",
   "execution_count": null,
   "metadata": {},
   "outputs": [],
   "source": [
    "#Answer:\n",
    "points = 174\n",
    "\n",
    "points = 174  # use this input when submitting your answer\n",
    "\n",
    "# set prize to default value of None\n",
    "prize = None\n",
    "\n",
    "# use the value of points to assign prize to the correct prize name\n",
    "if points <= 50:\n",
    "    prize = \"wooden rabbit\"\n",
    "elif 151 <= points <= 180:\n",
    "    prize = \"wafer-thin mint\"\n",
    "elif points >= 181:\n",
    "    prize = \"penguin\"\n",
    "\n",
    "# use the truth value of prize to assign result to the correct message\n",
    "if prize:\n",
    "    result = \"Congratulations! You won a {}!\".format(prize)\n",
    "else:\n",
    "    result = \"Oh dear, no prize this time.\"\n",
    "\n",
    "print(result)"
   ]
  },
  {
   "cell_type": "markdown",
   "metadata": {},
   "source": [
    "Loops"
   ]
  },
  {
   "cell_type": "code",
   "execution_count": null,
   "metadata": {},
   "outputs": [],
   "source": [
    "# Question:\n",
    "sentence = [\"the\", \"quick\", \"brown\", \"fox\", \"jumped\", \"over\", \"the\", \"lazy\", \"dog\"]\n",
    "\n",
    "# Write a for loop to print out each word in the sentence list, one word per line\n",
    "\n",
    "for word in sentence:\n",
    "    print(word)"
   ]
  },
  {
   "cell_type": "code",
   "execution_count": null,
   "metadata": {},
   "outputs": [],
   "source": [
    "#Answer:\n",
    "sentence = [\"the\", \"quick\", \"brown\", \"fox\", \"jumped\", \"over\", \"the\", \"lazy\", \"dog\"]\n",
    "\n",
    "for word in sentence:\n",
    "    print(word)"
   ]
  },
  {
   "cell_type": "code",
   "execution_count": null,
   "metadata": {},
   "outputs": [],
   "source": [
    "# Question:\n",
    "names = [\"Joey Tribbiani\", \"Monica Geller\", \"Chandler Bing\", \"Phoebe Buffay\"]\n",
    "usernames = []\n",
    "\n",
    "# write your for loop here\n",
    "for name in names:\n",
    "    usernames.append(name.lower().replace(' ', '_'))\n",
    "\n",
    "print(usernames)"
   ]
  },
  {
   "cell_type": "code",
   "execution_count": null,
   "metadata": {},
   "outputs": [],
   "source": [
    "#Answer:\n",
    "names = [\"Joey Tribbiani\", \"Monica Geller\", \"Chandler Bing\", \"Phoebe Buffay\"]\n",
    "usernames = []\n",
    "\n",
    "for name in names:\n",
    "    usernames.append(name.lower().replace(\" \", \"_\"))\n",
    "\n",
    "print(usernames)"
   ]
  },
  {
   "cell_type": "code",
   "execution_count": null,
   "metadata": {},
   "outputs": [],
   "source": [
    "# Question:\n",
    "usernames = [\"Joey Tribbiani\", \"Monica Geller\", \"Chandler Bing\", \"Phoebe Buffay\"]\n",
    "\n",
    "# write your for loop here\n",
    "for i in range(len(usernames)):\n",
    "    usernames[i] = usernames[i].lower().replace(' ','_')\n",
    "\n",
    "print(usernames)"
   ]
  },
  {
   "cell_type": "code",
   "execution_count": null,
   "metadata": {},
   "outputs": [],
   "source": [
    "#Answer:\n",
    "usernames = [\"Joey Tribbiani\", \"Monica Geller\", \"Chandler Bing\", \"Phoebe Buffay\"]\n",
    "\n",
    "for i in range(len(usernames)):\n",
    "    usernames[i] = usernames[i].lower().replace(\" \", \"_\")\n",
    "\n",
    "print(usernames)"
   ]
  },
  {
   "cell_type": "code",
   "execution_count": null,
   "metadata": {},
   "outputs": [],
   "source": [
    "# Question:\n",
    "okens = ['<greeting>', 'Hello World!', '</greeting>']\n",
    "count = 0\n",
    "\n",
    "# write your for loop here\n",
    "for token in tokens:\n",
    "    if token[0] == '<' and token[-1] == '>':\n",
    "        count += 1\n",
    "\n",
    "print(count)"
   ]
  },
  {
   "cell_type": "code",
   "execution_count": null,
   "metadata": {},
   "outputs": [],
   "source": [
    "#Answer:\n",
    "tokens = ['<greeting>', 'Hello World!', '</greeting>']\n",
    "\n",
    "count = 0\n",
    "for token in tokens:\n",
    "    if token[0] == '<' and token[-1] == '>':\n",
    "        count += 1\n",
    "\n",
    "print(count)"
   ]
  },
  {
   "cell_type": "code",
   "execution_count": null,
   "metadata": {},
   "outputs": [],
   "source": [
    "# Question:\n",
    "items = ['first string', 'second string']\n",
    "html_str = \"<ul>\\n\"  # \"\\ n\" is the character that marks the end of the line, it does\n",
    "                     # the characters that are after it in html_str are on the next line\n",
    "\n",
    "# write your code here\n",
    "for i in range(len(items)):\n",
    "    html_str += \"<li>\" + items[i] + \"</li>\\n\"\n",
    "    if items[i] == items[-1]:\n",
    "        html_str += \"</ul>\"\n",
    "\n",
    "print(html_str)"
   ]
  },
  {
   "cell_type": "code",
   "execution_count": null,
   "metadata": {},
   "outputs": [],
   "source": [
    "#Answer:\n",
    "items = ['first string', 'second string']\n",
    "html_str = \"<ul>\\n\"          # The \"\\n\" here is the end-of-line char, causing\n",
    "                             # chars after this in html_str to be on next line\n",
    "\n",
    "for item in items:\n",
    "    html_str += \"<li>{}</li>\\n\".format(item)\n",
    "html_str += \"</ul>\"\n",
    "\n",
    "print(html_str)"
   ]
  },
  {
   "cell_type": "code",
   "execution_count": null,
   "metadata": {},
   "outputs": [],
   "source": [
    "cast = {\n",
    "           \"Jerry Seinfeld\": \"Jerry Seinfeld\",\n",
    "           \"Julia Louis-Dreyfus\": \"Elaine Benes\",\n",
    "           \"Jason Alexander\": \"George Costanza\",\n",
    "           \"Michael Richards\": \"Cosmo Kramer\"\n",
    "       }\n",
    "\n",
    "print(\"Iterating through keys:\")\n",
    "for key in cast:\n",
    "    print(key)\n",
    "\n",
    "print(\"\\nIterating through keys and values:\")\n",
    "for key, value in cast.items():\n",
    "    print(\"Actor: {}    Role: {}\".format(key, value))"
   ]
  },
  {
   "cell_type": "code",
   "execution_count": null,
   "metadata": {},
   "outputs": [],
   "source": [
    "#Question\n",
    "# You would like to count the number of fruits in your basket. \n",
    "# In order to do this, you have the following dictionary and list of\n",
    "# fruits.  Use the dictionary and list to count the total number\n",
    "# of fruits, but you do not want to count the other items in your basket.\n",
    "\n",
    "result = 0\n",
    "basket_items = {'apples': 4, 'oranges': 19, 'kites': 3, 'sandwiches': 8}\n",
    "fruits = ['apples', 'oranges', 'pears', 'peaches', 'grapes', 'bananas']\n",
    "\n",
    "#Iterate through the dictionary\n",
    "for key, value in basket_items.items():\n",
    "    if key in fruits:\n",
    "        result += value\n",
    "#if the key is in the list of fruits, add the value (number of fruits) to result\n",
    "\n",
    "\n",
    "print(result)"
   ]
  },
  {
   "cell_type": "code",
   "execution_count": null,
   "metadata": {},
   "outputs": [],
   "source": [
    "#Answer\n",
    "result = 0\n",
    "basket_items = {'apples': 4, 'oranges': 19, 'kites': 3, 'sandwiches': 8}\n",
    "fruits = ['apples', 'oranges', 'pears', 'peaches', 'grapes', 'bananas']\n",
    "\n",
    "for fruit, count in basket_items.items():\n",
    "   if fruit in fruits:\n",
    "       result += count\n",
    "\n",
    "print(\"There are {} fruits in the basket.\".format(result))"
   ]
  },
  {
   "cell_type": "code",
   "execution_count": null,
   "metadata": {},
   "outputs": [],
   "source": [
    "#Question\n",
    "#Example 1\n",
    "\n",
    "result = 0\n",
    "basket_items = {'pears': 5, 'grapes': 19, 'kites': 3, 'sandwiches': 8, 'bananas': 4}\n",
    "fruits = ['apples', 'oranges', 'pears', 'peaches', 'grapes', 'bananas']\n",
    "\n",
    "# Your previous solution here\n",
    "for key, value in basket_items.items():\n",
    "    if key in fruits:\n",
    "        result += value\n",
    "        \n",
    "print(result)\n",
    "\n",
    "#Example 2\n",
    "\n",
    "result = 0\n",
    "basket_items = {'peaches': 5, 'lettuce': 2, 'kites': 3, 'sandwiches': 8, 'pears': 4}\n",
    "fruits = ['apples', 'oranges', 'pears', 'peaches', 'grapes', 'bananas']\n",
    "\n",
    "# Your previous solution here\n",
    "for key, value in basket_items.items():\n",
    "    if key in fruits:\n",
    "        result += value\n",
    "        \n",
    "print(result)\n",
    "\n",
    "\n",
    "#Example 3\n",
    "\n",
    "result = 0\n",
    "basket_items = {'lettuce': 2, 'kites': 3, 'sandwiches': 8, 'pears': 4, 'bears': 10}\n",
    "fruits = ['apples', 'oranges', 'pears', 'peaches', 'grapes', 'bananas']\n",
    "\n",
    "# Your previous solution here\n",
    "for key, value in basket_items.items():\n",
    "    if key in fruits:\n",
    "        result += value\n",
    "        \n",
    "print(result)\n"
   ]
  },
  {
   "cell_type": "code",
   "execution_count": null,
   "metadata": {},
   "outputs": [],
   "source": [
    "#Answer\n",
    "fruit_count, not_fruit_count = 0, 0\n",
    "basket_items = {'apples': 4, 'oranges': 19, 'kites': 3, 'sandwiches': 8}\n",
    "fruits = ['apples', 'oranges', 'pears', 'peaches', 'grapes', 'bananas']\n",
    "\n",
    "#Iterate through the dictionary\n",
    "for fruit, count in basket_items.items():\n",
    "    if fruit in fruits:\n",
    "       fruit_count += count\n",
    "    else:\n",
    "        not_fruit_count += count\n",
    "\n",
    "print(\"The number of fruits is {}.  There are {} items that are not fruits.\".format(fruit_count, not_fruit_count))"
   ]
  },
  {
   "cell_type": "code",
   "execution_count": null,
   "metadata": {},
   "outputs": [],
   "source": [
    "#Question\n",
    "# You would like to count the number of fruits in your basket. \n",
    "# In order to do this, you have the following dictionary and list of\n",
    "# fruits.  Use the dictionary and list to count the total number\n",
    "# of fruits and not_fruits.\n",
    "\n",
    "fruit_count, not_fruit_count = 0, 0\n",
    "basket_items = {'apples': 4, 'oranges': 19, 'kites': 3, 'sandwiches': 8}\n",
    "fruits = ['apples', 'oranges', 'pears', 'peaches', 'grapes', 'bananas']\n",
    "\n",
    "#Iterate through the dictionary\n",
    "for fruit, count in basket_items.items():\n",
    "    if fruit in fruits:\n",
    "        fruit_count += count\n",
    "    else:\n",
    "        not_fruit_count += count\n",
    "#if the key is in the list of fruits, add to fruit_count.\n",
    "\n",
    "#if the key is not in the list, then add to the not_fruit_count\n",
    "\n",
    "\n",
    "print(fruit_count, not_fruit_count)"
   ]
  },
  {
   "cell_type": "code",
   "execution_count": null,
   "metadata": {},
   "outputs": [],
   "source": [
    "#Question\n",
    "print_str = \"Water falls\"\n",
    "\n",
    "# TODO: initialize a counting variable \"i\" to 0 - you'll use this to track which character of the string you're on\n",
    "i = 0\n",
    "# TODO: write your while header line, comparing \"i\" to the length of the string\n",
    "while i < len(print_str):\n",
    "    # TODO: here in the body of the loop, print out the current character from the string\n",
    "    print(print_str[i])\n",
    "    # TODO: increment your counter variable in the body of the loop, so you don't loop forever!\n",
    "    i += 1"
   ]
  },
  {
   "cell_type": "code",
   "execution_count": null,
   "metadata": {},
   "outputs": [],
   "source": [
    "#Answer:\n",
    "print_str = \"Water falls\"\n",
    "\n",
    "# initialize a counting variable \"i\" to 0 - you'll use this to track which character of the string you're on\n",
    "i = 0\n",
    "# write while loop header line, comparing \"i\" to the length of the string\n",
    "while i < len(print_str):\n",
    "     # here in the body of the loop, print out the current character from the string\n",
    "    print(print_str[i])\n",
    "    # increment your counter variable in the body of the loop, so you don't loop forever!\n",
    "    i += 1"
   ]
  },
  {
   "cell_type": "code",
   "execution_count": null,
   "metadata": {},
   "outputs": [],
   "source": [
    "#Question\n",
    "# Start with a sample number for first test - change this when testing your code more!\n",
    "number = 6    \n",
    "# We'll always start with our product equal to the number\n",
    "product = number\n",
    "\n",
    "# TODO: Write while loop header line - how will you tell it when to stop looping?\n",
    "while number != 1:\n",
    "    # TODO: Each time through the loop, what do we want to do to our number?\n",
    "    number -= 1\n",
    "    # TODO: Each time, what do we want to multiply the current product by?\n",
    "    product = product *number\n",
    "# TODO: Print out final product (how do we indicate this should happen after loop ends?)\n",
    "print(product)"
   ]
  },
  {
   "cell_type": "code",
   "execution_count": null,
   "metadata": {},
   "outputs": [],
   "source": [
    "#Answer:\n",
    "# Start with a sample number for first test - change this when testing your code more!\n",
    "number = 6   \n",
    "# We'll always start with our product equal to the number\n",
    "product = number\n",
    "\n",
    "# Write while loop header line - how will you tell it when to stop looping?\n",
    "while  number > 1:\n",
    "    # Each time through the loop, what do we want to do to our number?\n",
    "    number -= 1\n",
    "    # Each time, what do we want to multiply the current product by?\n",
    "    product *= number\n",
    "# Print out final product (how do we indicate this should happen after loop ends?)\n",
    "print(product)"
   ]
  },
  {
   "cell_type": "code",
   "execution_count": null,
   "metadata": {},
   "outputs": [],
   "source": [
    "#Question:\n",
    "# This is the number we'll find the factorial of - change it to test your code!\n",
    "number = 6\n",
    "# We'll start with the product equal to the number\n",
    "product = number\n",
    "\n",
    "# TODO: Write a for loop that calculates the factorial of our number \n",
    "for i in range(number - 1, 0, -1):\n",
    "    product = product * i\n",
    "\n",
    "\n",
    "# TODO: print the factorial of your number\n",
    "print(product)"
   ]
  },
  {
   "cell_type": "code",
   "execution_count": null,
   "metadata": {},
   "outputs": [],
   "source": [
    "#Answer:\n",
    "# This is the number we'll find the factorial of - change it to test your code!\n",
    "number = 6\n",
    "# We'll start with the product equal to the number\n",
    "product = number\n",
    "\n",
    "# Write a for loop that calculates the factorial of our number \n",
    "for num in range(1, number):\n",
    "    product *= num\n",
    "\n",
    "# print the factorial of your number\n",
    "print(product)"
   ]
  },
  {
   "cell_type": "code",
   "execution_count": null,
   "metadata": {},
   "outputs": [],
   "source": [
    "#Question\n",
    "start_num = #provide some start number\n",
    "end_num = #provide some end number that you stop when you hit\n",
    "count_by = #provide some number to count by \n",
    "\n",
    "# write a while loop that uses break_num as the ongoing number to \n",
    "#   check against end_num\n",
    "\n",
    "\n",
    "print(break_num)"
   ]
  },
  {
   "cell_type": "code",
   "execution_count": null,
   "metadata": {},
   "outputs": [],
   "source": [
    "#Answer:\n",
    "start_num = 5\n",
    "end_num = 100\n",
    "count_by = 2\n",
    "\n",
    "break_num = start_num\n",
    "while break_num < end_num:\n",
    "    break_num += count_by\n",
    "\n",
    "print(break_num)\n",
    "\n"
   ]
  },
  {
   "cell_type": "code",
   "execution_count": null,
   "metadata": {},
   "outputs": [],
   "source": [
    "#Question\n",
    "start_num = #provide some start number\n",
    "end_num = #provide some end number that you stop when you hit\n",
    "count_by = #provide some number to count by \n",
    "\n",
    "# write a condition to check that end_num is larger than start_num before looping\n",
    "# write a while loop that uses break_num as the ongoing number to \n",
    "#   check against end_num\n",
    "\n",
    "\n",
    "print(result)"
   ]
  },
  {
   "cell_type": "code",
   "execution_count": null,
   "metadata": {},
   "outputs": [],
   "source": [
    "#Answer:\n",
    "start_num = 5\n",
    "end_num = 100\n",
    "count_by = 2\n",
    "\n",
    "if start_num > end_num:\n",
    "    result = \"Oops!  Looks like your start value is greater than the end value.  Please try again.\"\n",
    "\n",
    "else:\n",
    "    break_num = start_num\n",
    "    while break_num < end_num:\n",
    "        break_num += count_by\n",
    "\n",
    "    result = break_num\n",
    "\n",
    "print(result)"
   ]
  },
  {
   "cell_type": "code",
   "execution_count": null,
   "metadata": {},
   "outputs": [],
   "source": [
    "#Question\n",
    "limit = 40\n",
    "\n",
    "# write your while loop here\n",
    "\n",
    "\n",
    "print(nearest_square)"
   ]
  },
  {
   "cell_type": "code",
   "execution_count": null,
   "metadata": {},
   "outputs": [],
   "source": [
    "#Answer:\n",
    "limit = 40\n",
    "\n",
    "num = 0\n",
    "while (num+1)**2 < limit:\n",
    "    num += 1\n",
    "nearest_square = num**2\n",
    "\n",
    "print(nearest_square)"
   ]
  },
  {
   "cell_type": "markdown",
   "metadata": {},
   "source": [
    "Breaks & Continue"
   ]
  },
  {
   "cell_type": "code",
   "execution_count": 6,
   "metadata": {},
   "outputs": [
    {
     "name": "stdout",
     "output_type": "stream",
     "text": [
      "METHOD 1\n",
      "current weight: 0\n",
      "  adding bananas (15)\n",
      "current weight: 15\n",
      "  adding mattresses (24)\n",
      "current weight: 39\n",
      "  adding dog kennels (42)\n",
      "current weight: 81\n",
      "  adding machine (120)\n",
      "current weight: 201\n",
      "  breaking loop now!\n",
      "\n",
      "Final Weight: 201\n",
      "Final Items: ['bananas', 'mattresses', 'dog kennels', 'machine']\n",
      "\n",
      "METHOD 2\n",
      "current weight: 0\n",
      "  adding bananas (15)\n",
      "current weight: 15\n",
      "  adding mattresses (24)\n",
      "current weight: 39\n",
      "  adding dog kennels (42)\n",
      "current weight: 81\n",
      "  skipping machine (120)\n",
      "current weight: 81\n",
      "  adding cheeses (5)\n",
      "\n",
      "Final Weight: 86\n",
      "Final Items: ['bananas', 'mattresses', 'dog kennels', 'cheeses']\n"
     ]
    }
   ],
   "source": [
    "manifest = [(\"bananas\", 15), (\"mattresses\", 24), (\"dog kennels\", 42), (\"machine\", 120), (\"cheeses\", 5)]\n",
    "\n",
    "# the code breaks the loop when weight exceeds or reaches the limit\n",
    "print(\"METHOD 1\")\n",
    "weight = 0\n",
    "items = []\n",
    "for cargo_name, cargo_weight in manifest:\n",
    "    print(\"current weight: {}\".format(weight))\n",
    "    if weight >= 100:\n",
    "        print(\"  breaking loop now!\")\n",
    "        break\n",
    "    else:\n",
    "        print(\"  adding {} ({})\".format(cargo_name, cargo_weight))\n",
    "        items.append(cargo_name)\n",
    "        weight += cargo_weight\n",
    "\n",
    "print(\"\\nFinal Weight: {}\".format(weight))\n",
    "print(\"Final Items: {}\".format(items))\n",
    "\n",
    "# skips an iteration when adding an item would exceed the limit\n",
    "# breaks the loop if weight is exactly the value of the limit\n",
    "print(\"\\nMETHOD 2\")\n",
    "weight = 0\n",
    "items = []\n",
    "for cargo_name, cargo_weight in manifest:\n",
    "    print(\"current weight: {}\".format(weight))\n",
    "    if weight >= 100:\n",
    "        print(\"  breaking from the loop now!\")\n",
    "        break\n",
    "    elif weight + cargo_weight > 100:\n",
    "        print(\"  skipping {} ({})\".format(cargo_name, cargo_weight))\n",
    "        continue\n",
    "    else:\n",
    "        print(\"  adding {} ({})\".format(cargo_name, cargo_weight))\n",
    "        items.append(cargo_name)\n",
    "        weight += cargo_weight\n",
    "\n",
    "print(\"\\nFinal Weight: {}\".format(weight))\n",
    "print(\"Final Items: {}\".format(items))"
   ]
  },
  {
   "cell_type": "code",
   "execution_count": 9,
   "metadata": {},
   "outputs": [
    {
     "name": "stdout",
     "output_type": "stream",
     "text": [
      "24\n",
      "55\n",
      "101\n",
      "135\n",
      "Local Bear Eaten by Man Legislature Announces New Laws Peasant Discovers Violence Inherent in System Cat Rescues Fireman Stuck in Tree \n"
     ]
    }
   ],
   "source": [
    "#Question\n",
    "# HINT: modify the headlines list to verify your loop works with different inputs\n",
    "headlines = [\"Local Bear Eaten by Man\",\n",
    "             \"Legislature Announces New Laws\",\n",
    "             \"Peasant Discovers Violence Inherent in System\",\n",
    "             \"Cat Rescues Fireman Stuck in Tree\",\n",
    "             \"Brave Knight Runs Away\",\n",
    "             \"Papperbok Review: Totally Triffic\"]\n",
    "\n",
    "news_ticker = \"\"\n",
    "# write your loop here\n",
    "for headline in headlines:\n",
    "    if len(news_ticker) > 140:\n",
    "        break\n",
    "    elif len(news_ticker) + len(headline) + 1 > 140:\n",
    "        continue\n",
    "    else:\n",
    "        news_ticker += headline + ' '\n",
    "    print(len(news_ticker))\n",
    "\n",
    "print(news_ticker)"
   ]
  },
  {
   "cell_type": "code",
   "execution_count": null,
   "metadata": {},
   "outputs": [],
   "source": [
    "#Answer:\n",
    "headlines = [\"Local Bear Eaten by Man\",\n",
    "             \"Legislature Announces New Laws\",\n",
    "             \"Peasant Discovers Violence Inherent in System\",\n",
    "             \"Cat Rescues Fireman Stuck in Tree\",\n",
    "             \"Brave Knight Runs Away\",\n",
    "             \"Papperbok Review: Totally Triffic\"]\n",
    "\n",
    "news_ticker = \"\"\n",
    "for headline in headlines:\n",
    "    news_ticker += headline + \" \"\n",
    "    if len(news_ticker) >= 140:\n",
    "        news_ticker = news_ticker[:140]\n",
    "        break\n",
    "\n",
    "print(news_ticker)"
   ]
  },
  {
   "cell_type": "markdown",
   "metadata": {},
   "source": [
    "Zip and Enumerate"
   ]
  },
  {
   "cell_type": "code",
   "execution_count": 13,
   "metadata": {},
   "outputs": [
    {
     "data": {
      "text/plain": [
       "('a', 'b', 'c')"
      ]
     },
     "execution_count": 13,
     "metadata": {},
     "output_type": "execute_result"
    }
   ],
   "source": [
    "some_list = [('a', 1), ('b', 2), ('c', 3)]\n",
    "letters, nums = zip(*some_list)\n",
    "\n",
    "letters"
   ]
  },
  {
   "cell_type": "code",
   "execution_count": null,
   "metadata": {},
   "outputs": [],
   "source": [
    "#Question\n",
    "x_coord = [23, 53, 2, -12, 95, 103, 14, -5]\n",
    "y_coord = [677, 233, 405, 433, 905, 376, 432, 445]\n",
    "z_coord = [4, 16, -6, -42, 3, -6, 23, -1]\n",
    "labels = [\"F\", \"J\", \"A\", \"Q\", \"Y\", \"B\", \"W\", \"X\"]\n",
    "\n",
    "points = []\n",
    "# write your for loop here\n",
    "for label, x, y, z in zip(labels, x_coord, y_coord, z_coord):\n",
    "    points.append('{}: {}, {}, {}.'.format(label, x, y, x))\n",
    "\n",
    "for point in points:\n",
    "    print(point)"
   ]
  },
  {
   "cell_type": "code",
   "execution_count": null,
   "metadata": {},
   "outputs": [],
   "source": [
    "#Answer\n",
    "x_coord = [23, 53, 2, -12, 95, 103, 14, -5]\n",
    "y_coord = [677, 233, 405, 433, 905, 376, 432, 445]\n",
    "z_coord = [4, 16, -6, -42, 3, -6, 23, -1]\n",
    "labels = [\"F\", \"J\", \"A\", \"Q\", \"Y\", \"B\", \"W\", \"X\"]\n",
    "\n",
    "points = []\n",
    "for point in zip(labels, x_coord, y_coord, z_coord):\n",
    "    points.append(\"{}: {}, {}, {}\".format(*point))\n",
    "\n",
    "for point in points:\n",
    "    print(point)"
   ]
  },
  {
   "cell_type": "code",
   "execution_count": null,
   "metadata": {},
   "outputs": [],
   "source": [
    "#Question\n",
    "cast_names = [\"Barney\", \"Robin\", \"Ted\", \"Lily\", \"Marshall\"]\n",
    "cast_heights = [72, 68, 72, 66, 76]\n",
    "\n",
    "cast = {}# replace with your code\n",
    "\n",
    "for name, height in zip(cast_names, cast_heights):\n",
    "    cast[name] = height\n",
    "print(cast)"
   ]
  },
  {
   "cell_type": "code",
   "execution_count": null,
   "metadata": {},
   "outputs": [],
   "source": [
    "#Answer\n",
    "cast_names = [\"Barney\", \"Robin\", \"Ted\", \"Lily\", \"Marshall\"]\n",
    "cast_heights = [72, 68, 72, 66, 76]\n",
    "\n",
    "cast = dict(zip(cast_names, cast_heights))\n",
    "print(cast)"
   ]
  },
  {
   "cell_type": "code",
   "execution_count": null,
   "metadata": {},
   "outputs": [],
   "source": [
    "#Question\n",
    "casts = ((\"Barney\", 72), (\"Robin\", 68), (\"Ted\", 72), (\"Lily\", 66), (\"Marshall\", 76))\n",
    "\n",
    "# define names and heights here\n",
    "\n",
    "names, heights = zip(*casts)\n",
    "\n",
    "print(names)\n",
    "print(heights)"
   ]
  },
  {
   "cell_type": "code",
   "execution_count": null,
   "metadata": {},
   "outputs": [],
   "source": [
    "#Answer\n",
    "cast = ((\"Barney\", 72), (\"Robin\", 68), (\"Ted\", 72), (\"Lily\", 66), (\"Marshall\", 76))\n",
    "\n",
    "names, heights = zip(*cast)\n",
    "print(names)\n",
    "print(heights)"
   ]
  },
  {
   "cell_type": "code",
   "execution_count": null,
   "metadata": {},
   "outputs": [],
   "source": [
    "#Question\n",
    "data = ((0, 1, 2), (3, 4, 5), (6, 7, 8), (9, 10, 11))\n",
    "\n",
    "data_transpose = zip(zip(*data))\n",
    "\n",
    "print(data_transpose)"
   ]
  },
  {
   "cell_type": "code",
   "execution_count": null,
   "metadata": {},
   "outputs": [],
   "source": [
    "#Answer\n",
    "data = ((0, 1, 2), (3, 4, 5), (6, 7, 8), (9, 10, 11))\n",
    "\n",
    "data_transpose = tuple(zip(*data))\n",
    "print(data_transpose)"
   ]
  },
  {
   "cell_type": "code",
   "execution_count": null,
   "metadata": {},
   "outputs": [],
   "source": [
    "#Question\n",
    "cast = [\"Barney Stinson\", \"Robin Scherbatsky\", \"Ted Mosby\", \"Lily Aldrin\", \"Marshall Eriksen\"]\n",
    "heights = [72, 68, 72, 66, 76]\n",
    "\n",
    "# write your for loop here\n",
    "\n",
    "for i, name in enumerate(cast):\n",
    "    cast[i] = cast[i] + ' ' + str(heights[i])\n",
    "\n",
    "\n",
    "print(cast)"
   ]
  },
  {
   "cell_type": "code",
   "execution_count": null,
   "metadata": {},
   "outputs": [],
   "source": [
    "#Answer\n",
    "cast = [\"Barney Stinson\", \"Robin Scherbatsky\", \"Ted Mosby\", \"Lily Aldrin\", \"Marshall Eriksen\"]\n",
    "heights = [72, 68, 72, 66, 76]\n",
    "\n",
    "for i, character in enumerate(cast):\n",
    "    cast[i] = character + \" \" + str(heights[i])\n",
    "\n",
    "print(cast)"
   ]
  },
  {
   "cell_type": "markdown",
   "metadata": {},
   "source": [
    "List Comprehensions"
   ]
  },
  {
   "cell_type": "code",
   "execution_count": null,
   "metadata": {},
   "outputs": [],
   "source": [
    "capitalized_cities = []\n",
    "for city in cities:\n",
    "    capitalized_cities.append(city.title())\n",
    "\n",
    "#same as\n",
    "capitalized_cities = [city.title() for city in cities]"
   ]
  },
  {
   "cell_type": "code",
   "execution_count": 15,
   "metadata": {},
   "outputs": [
    {
     "name": "stdout",
     "output_type": "stream",
     "text": [
      "[0, 4, 16, 36, 64]\n",
      "[0, 4, 4, 6, 16, 8, 36, 10, 64]\n"
     ]
    }
   ],
   "source": [
    "#conditionals\n",
    "squares = [x**2 for x in range(9) if x % 2 == 0]\n",
    "print(squares)\n",
    "\n",
    "#squares = [x**2 for x in range(9) if x % 2 == 0 else x + 3] #won't work\n",
    "squares = [x**2 if x % 2 == 0 else x + 3 for x in range(9)]\n",
    "print(squares)"
   ]
  },
  {
   "cell_type": "code",
   "execution_count": null,
   "metadata": {},
   "outputs": [],
   "source": [
    "#Question\n",
    "names = [\"Rick Sanchez\", \"Morty Smith\", \"Summer Smith\", \"Jerry Smith\", \"Beth Smith\"]\n",
    "\n",
    "first_names = [name.lower().split()[0] for name in names]# write your list comprehension here\n",
    "print(first_names)"
   ]
  },
  {
   "cell_type": "code",
   "execution_count": null,
   "metadata": {},
   "outputs": [],
   "source": [
    "#Answer\n",
    "names = [\"Rick Sanchez\", \"Morty Smith\", \"Summer Smith\", \"Jerry Smith\", \"Beth Smith\"]\n",
    "\n",
    "first_names = [name.split()[0].lower() for name in names]\n",
    "print(first_names)"
   ]
  },
  {
   "cell_type": "code",
   "execution_count": null,
   "metadata": {},
   "outputs": [],
   "source": [
    "#Question\n",
    "multiples_3 = [n*3 for n in range(1,21)]# write your list comprehension here\n",
    "print(multiples_3)"
   ]
  },
  {
   "cell_type": "code",
   "execution_count": null,
   "metadata": {},
   "outputs": [],
   "source": [
    "#Answer\n",
    "multiples_3 = [x * 3 for x in range(1, 21)]\n",
    "print(multiples_3)"
   ]
  },
  {
   "cell_type": "code",
   "execution_count": null,
   "metadata": {},
   "outputs": [],
   "source": [
    "#Question\n",
    "scores = {\n",
    "             \"Rick Sanchez\": 70,\n",
    "             \"Morty Smith\": 35,\n",
    "             \"Summer Smith\": 82,\n",
    "             \"Jerry Smith\": 23,\n",
    "             \"Beth Smith\": 98\n",
    "          }\n",
    "\n",
    "passed = [key for key in scores.keys() if scores[key] >= 65]# write your list comprehension here\n",
    "print(passed)"
   ]
  },
  {
   "cell_type": "code",
   "execution_count": null,
   "metadata": {},
   "outputs": [],
   "source": [
    "#Answer\n",
    "scores = {\n",
    "             \"Rick Sanchez\": 70,\n",
    "             \"Morty Smith\": 35,\n",
    "             \"Summer Smith\": 82,\n",
    "             \"Jerry Smith\": 23,\n",
    "             \"Beth Smith\": 98\n",
    "          }\n",
    "\n",
    "passed = [name for name, score in scores.items() if score >= 65]\n",
    "print(passed)"
   ]
  },
  {
   "cell_type": "code",
   "execution_count": null,
   "metadata": {},
   "outputs": [],
   "source": []
  }
 ],
 "metadata": {
  "kernelspec": {
   "display_name": "Python 3",
   "language": "python",
   "name": "python3"
  },
  "language_info": {
   "codemirror_mode": {
    "name": "ipython",
    "version": 3
   },
   "file_extension": ".py",
   "mimetype": "text/x-python",
   "name": "python",
   "nbconvert_exporter": "python",
   "pygments_lexer": "ipython3",
   "version": "3.5.3"
  }
 },
 "nbformat": 4,
 "nbformat_minor": 2
}
