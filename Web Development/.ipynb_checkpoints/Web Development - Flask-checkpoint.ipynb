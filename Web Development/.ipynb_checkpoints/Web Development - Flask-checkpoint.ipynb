{
 "cells": [
  {
   "cell_type": "markdown",
   "metadata": {},
   "source": [
    "# Flask Exercise Instructions\n",
    "\n",
    "You'll find all the files you need for this exercise in the 1_flask_exercise folder. Your task is to add a new route to the routes.py file and a new html file for this route. \n",
    "\n",
    "From the 1_flask_exercise/worldbankapp folder, open the routes.py file and the templates folder. Follow the instructions in the TODOS. Once you've changed the files, follow these instructions to see the web app:\n",
    "1. Open a Terminal\n",
    "2. Enter the command `env | grep WORK` to find your workspace variables\n",
    "3. Enter the command `cd 1_flask_exercise` to go into the 1_flask_exercise folder.\n",
    "4. Enter the command `python worldbank.py`\n",
    "5. Open a new web browser window and go to the web address:\n",
    "`http://WORKSPACESPACEID-3001.WORKSPACEDOMAIN` replacing WORKSPACEID and WORKSPACEDOMAIN with your values. \n",
    "\n",
    "http://viewc7f399f2-3001.udacity-student-workspaces.com works!!\n",
    "\n",
    "In the workspace, you'll also see a folder called solutions. Inside the solutions folder is another folder called 1_flask_exercise, which contains an example solution.\n"
   ]
  },
  {
   "cell_type": "code",
   "execution_count": null,
   "metadata": {},
   "outputs": [],
   "source": [
    "# worldbank.py\n",
    "from worldbankapp import app\n",
    "app.run(host='0.0.0.0', port=3001, debug=True)"
   ]
  },
  {
   "cell_type": "markdown",
   "metadata": {},
   "source": [
    "inside workbankapp"
   ]
  },
  {
   "cell_type": "code",
   "execution_count": null,
   "metadata": {},
   "outputs": [],
   "source": [
    "# routes.py\n",
    "from worldbankapp import app\n",
    "\n",
    "from flask import render_template\n",
    "\n",
    "@app.route('/')\n",
    "@app.route('/index')\n",
    "def index():\n",
    "    return render_template('index.html')\n",
    "    \n",
    "@app.route('/project-one')\n",
    "def project_one():\n",
    "    return render_template('project_one.html')\n",
    "\n",
    "# TODO: Add another route. You can use any names you want\n",
    "# Then go into the templates folder and add an html file that matches the file name you put in the render_template method. You can create a new file by going to the + sign at the top of the workspace and clicking on Create New File. Make sure to place the new html file in the templates folder.\n",
    "\n",
    "# TODO: Start the web app per the instructions in the instructions.md file and make sure your new html file renders correctly.\n",
    "\n",
    "# new route\n",
    "@app.route('/new-route')\n",
    "def new_route():\n",
    "    return render_template('new_route.html')"
   ]
  },
  {
   "cell_type": "code",
   "execution_count": null,
   "metadata": {},
   "outputs": [],
   "source": [
    "# __init__.py\n",
    "from flask import Flask\n",
    "\n",
    "app = Flask(__name__)\n",
    "\n",
    "from worldbankapp import routes"
   ]
  },
  {
   "cell_type": "code",
   "execution_count": null,
   "metadata": {},
   "outputs": [],
   "source": [
    "#new_route.html\n",
    "\n",
    "<!doctype html>\n",
    "\n",
    "<html>\n",
    "<head>\n",
    "  <title>New Routes</title>\n",
    "</head>\n",
    "\n",
    "<body>\n",
    "  <h1>The project_one.html page</h1>\n",
    "  <p>Currently empty</p>\n",
    "</body>"
   ]
  }
 ],
 "metadata": {
  "kernelspec": {
   "display_name": "Python 3",
   "language": "python",
   "name": "python3"
  },
  "language_info": {
   "codemirror_mode": {
    "name": "ipython",
    "version": 3
   },
   "file_extension": ".py",
   "mimetype": "text/x-python",
   "name": "python",
   "nbconvert_exporter": "python",
   "pygments_lexer": "ipython3",
   "version": "3.5.3"
  }
 },
 "nbformat": 4,
 "nbformat_minor": 2
}
