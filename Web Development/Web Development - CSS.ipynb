{
 "cells": [
  {
   "cell_type": "markdown",
   "metadata": {},
   "source": [
    "CSS Examples"
   ]
  },
  {
   "cell_type": "code",
   "execution_count": null,
   "metadata": {},
   "outputs": [],
   "source": [
    "# In most professional websites, css is kept in a separate stylesheet. This makes it easier to separate content (html) from style (css). Code becomes easier to read and maintain. \n",
    "# Inline means that you specify the CSS directly inside of an html tag like so:\n",
    "<p style=\"font-size:20px;\">This is a paragraph</p>"
   ]
  },
  {
   "cell_type": "code",
   "execution_count": null,
   "metadata": {},
   "outputs": [],
   "source": [
    "# Alternatively, you can put the CSS in a stylesheet. The stylesheet can go underneath an html head tag like so:\n",
    "<head>\n",
    "   <style>\n",
    "       p {font-size: 20px;}\n",
    "   </style>\n",
    "</head>"
   ]
  },
  {
   "cell_type": "code",
   "execution_count": null,
   "metadata": {},
   "outputs": [],
   "source": [
    "# Or the css can go into its own separate css file (extension .css). Then you can link to the css file within the html head tag like so:\n",
    "<head>\n",
    "    <link rel=\"stylesheet\" type\"text/css\" href=\"style.css\">\n",
    "</head>\n",
    "\n",
    "# where style.css is the path to the style.css file. Inside the style.css file would be the style rules such as\n",
    "p {\n",
    "  color:red;\n",
    "}"
   ]
  },
  {
   "cell_type": "markdown",
   "metadata": {},
   "source": [
    "The general syntax is that you:\n",
    "\n",
    "    select the html element, id, and/or class of interest\n",
    "    specify what you want to change about the element\n",
    "    specify a value, followed by a semi-colon\n",
    "\n",
    "where a is the element of interest, text-decoration is what you want to change, and none is the value. You can write multiple rules within one set of brackets like:"
   ]
  },
  {
   "cell_type": "code",
   "execution_count": null,
   "metadata": {},
   "outputs": [],
   "source": [
    "a {\n",
    "  text-decoration:none;\n",
    "  color:blue;\n",
    "  font-weight:bold;\n",
    "}"
   ]
  },
  {
   "cell_type": "code",
   "execution_count": null,
   "metadata": {},
   "outputs": [],
   "source": [
    "# To select by class name, you use a dot like so:\n",
    ".class_name {\n",
    "   color: red;\n",
    "}"
   ]
  },
  {
   "cell_type": "code",
   "execution_count": null,
   "metadata": {},
   "outputs": [],
   "source": [
    "# To select by id name, you use the pound sound:\n",
    "#id_name {\n",
    "  color: red;\n",
    "}"
   ]
  },
  {
   "cell_type": "code",
   "execution_count": null,
   "metadata": {},
   "outputs": [],
   "source": [
    "# These examples below show how this works. They use a div element with a border. Here is the div without any margin or padding:\n",
    "<div style=\"border:solid red 1px;\">\n",
    "    Box\n",
    "</div>\n",
    "\n",
    "# Margin\n",
    "<div style=\"border:solid red 1px;margin:40px;\">\n",
    "    Box\n",
    "</div>\n",
    "\n",
    "# Padding\n",
    "<div style=\"border:solid red 1px;padding:40px;\">\n",
    "    Box\n",
    "</div>\n",
    "\n",
    "# Margin and Padding\n",
    "<div style=\"border:solid red 1px;margin:40px;padding:40px;\">\n",
    "    Box\n",
    "</div>\n"
   ]
  },
  {
   "cell_type": "code",
   "execution_count": null,
   "metadata": {},
   "outputs": [],
   "source": [
    "# When you use px, you're defining the exact number of pixels an element should use in terms of size\n",
    "<p style=\"font-size: 12px;\">\n",
    "\n",
    "# The percent and em units have a similar function. They dynamically change sizing based on a browser's default values.\n",
    "p style=\"font-size: 100%\">\n",
    "\n",
    "# if you specify a font size in a body tag , then the percentages will be relative to the body element:\n",
    "<body style=\"font-size: 20px\">\n",
    "    <p style=\"font-size:80%\">This is a paragraph</p>\n",
    "...\n",
    "</body>\n"
   ]
  },
  {
   "cell_type": "code",
   "execution_count": null,
   "metadata": {},
   "outputs": [],
   "source": []
  },
  {
   "cell_type": "code",
   "execution_count": null,
   "metadata": {},
   "outputs": [],
   "source": []
  },
  {
   "cell_type": "code",
   "execution_count": null,
   "metadata": {},
   "outputs": [],
   "source": []
  },
  {
   "cell_type": "code",
   "execution_count": null,
   "metadata": {},
   "outputs": [],
   "source": []
  },
  {
   "cell_type": "markdown",
   "metadata": {},
   "source": [
    "CSS Exercise"
   ]
  },
  {
   "cell_type": "code",
   "execution_count": null,
   "metadata": {},
   "outputs": [],
   "source": [
    "<! DOCTYPE html>\n",
    "\n",
    "<html>\n",
    "  <head>\n",
    "    <title>Udacity Task List</title>\n",
    "\t<link rel=\"stylesheet\" type=\"text/css\" href=\"example_answer.css\">\n",
    "  </head>\n",
    "  <body>\n",
    "    <h1>Today's TODO list</h1>\n",
    "    <img src='udacity_logo.png' alt='Udacity Logo'>\n",
    "    <a id=\"main-link\" href=\"https://www.udacity.com\">Udacity</a>    \n",
    "    <div id=\"main-content\">\n",
    "      <p class=\"bold-paragraph\">Hi, my name is Andrew.</p>\n",
    "      <p class=\"bold-paragraph\">I am a Udacity student from Los Angeles, California</p>\n",
    "      <p>I'm currently studying for the data scientist nanodegree program</p>\n",
    "      <p>These are my tasks:</p>\n",
    "      <ul>\n",
    "          <li>Watch ten videos</li>\n",
    "          <li>Answer all the quizzes</li>\n",
    "          <li>Work on the project for 2 hours</li>\n",
    "      </ul>\n",
    "      <p>Here is a table of the tasks that I've completed this week</p>\n",
    "    </div>\n",
    "    <table>\n",
    "      <caption>Breakdown of Tasks Completed</caption>\n",
    "      <tr>\n",
    "        <th>Day</th>\n",
    "        <th>Tasks Completed</th>\n",
    "      </tr>\n",
    "      <tr>\n",
    "        <td>Monday</td>\n",
    "        <td>Completed five concepts</td>\n",
    "      </tr>\n",
    "      <tr>\n",
    "        <td>Tuesday</td>\n",
    "        <td>Did three quizzes</td>\n",
    "    </table>\n",
    "    <br>\n",
    "    <nav>\n",
    "      <a href=\"https://www.w3schools.com/html/\">HTML</a> |\n",
    "      <a href=\"https://www.w3schools.com/w3css/\">CSS</a> |\n",
    "      <a href=\"https://www.w3schools.com/js/default.asp\">JavaScript</a> |\n",
    "      <a href=\"https://www.w3schools.com/Jquery/default.asp\">jQuery</a>\n",
    "\t</nav>\n",
    "  </body>\n",
    "  \n",
    "</html>"
   ]
  },
  {
   "cell_type": "code",
   "execution_count": null,
   "metadata": {},
   "outputs": [],
   "source": [
    "/* TODO:\n",
    "- add a left margin of 25px and a right margin of 25px to the body tag */\n",
    "\n",
    "body {\n",
    " margin-left:25px;\n",
    " margin-right:25px; \n",
    "}\n",
    "\n",
    "/* TODO: h1 header\n",
    "- change the h1 header to all capital letters \n",
    "- add a top and bottom margin of 20px\n",
    "hint: https://www.w3schools.com/cssref/pr_text_text-transform.asp*/ \n",
    "h1 {\n",
    " text-transform:uppercase; \n",
    " margin-top: 20px;\n",
    " margin-bottom: 20px;\n",
    "}\n",
    "\n",
    "/* TODO: img\n",
    "- make the Udacity logo only half the width of the screen\n",
    "hint: https://www.w3schools.com/css/css_dimension.asp\n",
    "*/\n",
    "img {\n",
    " width:50%; \n",
    "}\n",
    "\n",
    "/* TODO: Udacity link \n",
    "- make the Udacity link on its own line instead of next to the image\n",
    "- give the link a top and bottom margin of 20px\n",
    "- remove the underline\n",
    "- increase the font to 45px\n",
    "- change the font color to gray\n",
    "hint: the block value might be of interest\n",
    "https://www.w3schools.com/cssref/pr_class_display.asp\n",
    "hint: make sure to specify the Udacity link using the id; otherwise all links will be styled like the Udacity link\n",
    "*/\n",
    "a#main-link {\n",
    "  display:block;\n",
    "  margin-top:20px;\n",
    "  margin-bottom:20px;\n",
    "  text-decoration:none;\n",
    "  font-size:45px;\n",
    "  color:gray;\n",
    "}\n",
    "\n",
    "\n",
    "/* TODO: Div main-content id\n",
    "- change the font of all elements inside the #main-content div to helvetica\n",
    "hint: https://www.w3schools.com/cssref/pr_font_font-family.asp\n",
    "*/\n",
    "div#main-content {\n",
    "  font-family: \"helvetica\";\n",
    "}\n",
    "\n",
    "/* TODO: bold-paragraph class\n",
    "- for the paragraphs with the bold-paragraph class, make the text bold\n",
    "*/\n",
    "p.bold-paragraph {\n",
    "  font-weight:bold;\n",
    "}\n",
    "\n",
    "/* TODO: table\n",
    "- draw a black border around the td elements in the table\n",
    "hint: https://www.w3schools.com/css/css_border.asp\n",
    "*/\n",
    "td {\n",
    " border:solid black 1px; \n",
    "}"
   ]
  }
 ],
 "metadata": {
  "kernelspec": {
   "display_name": "Python 3",
   "language": "python",
   "name": "python3"
  },
  "language_info": {
   "codemirror_mode": {
    "name": "ipython",
    "version": 3
   },
   "file_extension": ".py",
   "mimetype": "text/x-python",
   "name": "python",
   "nbconvert_exporter": "python",
   "pygments_lexer": "ipython3",
   "version": "3.5.3"
  }
 },
 "nbformat": 4,
 "nbformat_minor": 2
}
