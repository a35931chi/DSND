{
 "cells": [
  {
   "cell_type": "markdown",
   "metadata": {},
   "source": [
    "# Instructions\n",
    "\n",
    "The 2_flask+pandas_example folder contains the files from the previous screencast. There's nothing to do here other than to see that you can use pandas and flask together.\n",
    "\n",
    "If you run the web app, you'll find that it still works. To run the web app:\n",
    "1. In the terminal, type `cd 2_flask+pandas_example`\n",
    "2. Then `python worldbank.py`\n",
    "3. The data variable will print out to the terminal\n",
    "4. You can open the web app in the browser as well. You can do this using the `env | grep WORLD` command in the terminal to see your WORKSPACE envirnomental variables. And from there the web address is `http://WORKSPACESPACEID-3001.WORKSPACEDOMAIN` replacing WORKSPACEID and WORKSPACEDOMAIN with your values.\n",
    "\n",
    "http://viewc7f399f2-3001.udacity-student-workspaces.com works!!\n",
    "\n",
    "The next step will be to use this wrangled data in a Plotly visualization. You can do this in the back-end of the web app with Plotly's Python library and Python dictionaries. And then finally, you'll need to send these dictionaries containing the visualizations to the front-end of the web app.\n",
    "\n",
    "This is what you're going to do next."
   ]
  },
  {
   "cell_type": "code",
   "execution_count": null,
   "metadata": {},
   "outputs": [],
   "source": [
    "# routes.py\n",
    "from worldbankapp import app\n",
    "from flask import render_template\n",
    "import pandas as pd\n",
    "from wrangling_scripts.wrangling import data_wrangling\n",
    "\n",
    "data = data_wrangling()\n",
    "\n",
    "print(data)\n",
    "\n",
    "\n",
    "\n",
    "@app.route('/')\n",
    "@app.route('/index')\n",
    "def index():\n",
    "    return render_template('index.html')\n",
    "    \n",
    "@app.route('/project-one')\n",
    "def project_one():\n",
    "    return render_template('project_one.html')\n",
    "    "
   ]
  },
  {
   "cell_type": "code",
   "execution_count": null,
   "metadata": {},
   "outputs": [],
   "source": [
    "# __init__.py\n",
    "from flask import Flask\n",
    "\n",
    "app = Flask(__name__)\n",
    "\n",
    "from worldbankapp import routes\n"
   ]
  },
  {
   "cell_type": "code",
   "execution_count": null,
   "metadata": {},
   "outputs": [],
   "source": [
    "# index.html\n",
    "<!doctype html>\n",
    "\n",
    "<html>\n",
    "<head>\n",
    "  <title>Index Page</title>\n",
    "</head>\n",
    "\n",
    "<body>\n",
    "  <h1>The index.html page</h1>  \n",
    "</body>\n",
    "</html>\n"
   ]
  },
  {
   "cell_type": "code",
   "execution_count": null,
   "metadata": {},
   "outputs": [],
   "source": [
    "# project_one.html\n",
    "<!doctype html>\n",
    "\n",
    "<html>\n",
    "<head>\n",
    "  <title>Project One</title>\n",
    "</head>\n",
    "\n",
    "<body>\n",
    "  <h1>The project_one.html page</h1>\n",
    "</body>"
   ]
  },
  {
   "cell_type": "code",
   "execution_count": null,
   "metadata": {},
   "outputs": [],
   "source": [
    "# wrangling.py\n",
    "import pandas as pd\n",
    "\n",
    "def data_wrangling():\n",
    "    df = pd.read_csv('data/API_SP.RUR.TOTL.ZS_DS2_en_csv_v2_9948275.csv', skiprows=4)\n",
    "\n",
    "    # Filter for 1990 and 2015, top 10 economies\n",
    "    df = df[['Country Name','1990', '2015']]\n",
    "    countrylist = ['United States', 'China', 'Japan', 'Germany', 'United Kingdom', 'India', 'France', 'Brazil', 'Italy', 'Canada']\n",
    "    df = df[df['Country Name'].isin(countrylist)]\n",
    "\n",
    "    # melt year columns  and convert year to date time\n",
    "    df_melt = df.melt(id_vars='Country Name', value_vars = ['1990', '2015'])\n",
    "    df_melt.columns = ['country','year', 'variable']\n",
    "    df_melt['year'] = df_melt['year'].astype('datetime64[ns]').dt.year\n",
    "\n",
    "    # add column names\n",
    "    df_melt.columns = ['country', 'year', 'percentrural']\n",
    "\n",
    "    # prepare data into x, y lists for plotting\n",
    "    df_melt.sort_values('percentrural', ascending=False, inplace=True)\n",
    "\n",
    "    data = []\n",
    "    for country in countrylist:\n",
    "        x_val = df_melt[df_melt['country'] == country].year.tolist()\n",
    "        y_val =  df_melt[df_melt['country'] == country].percentrural.tolist()\n",
    "        data.append((country, x_val, y_val))\n",
    "        print(country, x_val, y_val)\n",
    "        \n",
    "    return data"
   ]
  }
 ],
 "metadata": {
  "kernelspec": {
   "display_name": "Python 3",
   "language": "python",
   "name": "python3"
  },
  "language_info": {
   "codemirror_mode": {
    "name": "ipython",
    "version": 3
   },
   "file_extension": ".py",
   "mimetype": "text/x-python",
   "name": "python",
   "nbconvert_exporter": "python",
   "pygments_lexer": "ipython3",
   "version": "3.5.4"
  }
 },
 "nbformat": 4,
 "nbformat_minor": 2
}
