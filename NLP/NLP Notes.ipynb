{
 "cells": [
  {
   "cell_type": "markdown",
   "metadata": {},
   "source": [
    "Udacity prescribed text processing steps:\n",
    "    1. normalize text and remove punctuation\n",
    "    2. split and tokenize\n",
    "    3. remove stopwords (reduce vocab)\n",
    "    4. lemmatize first then stem\n",
    "    \n",
    "This is my 2 cents:\n",
    "    1. use NER\n",
    "    2. normalize text and remove punctuation\n",
    "    3. split and tokenize\n",
    "    4. remove stopwords\n",
    "    5. lemmatize first then stem\n",
    "    6. phrase modeling"
   ]
  },
  {
   "cell_type": "markdown",
   "metadata": {},
   "source": [
    "Depends on what you want to do with NLP, use a different feature extraction technique:\n",
    "1. For spam detection or sentiment analysis, which are per doc representation: bag-of-words, doc-to-vec\n",
    "2. Working with individual word such as text generation, machine translation, use word level representation: word-to-vec or glove."
   ]
  },
  {
   "cell_type": "markdown",
   "metadata": {},
   "source": [
    "#### Bag of Words (treat each words as equally important)\n",
    "- unordered collection of words, hence \"bag\"\n",
    "- normalization, remove stop words, lemmatizing, stemming, etc\n",
    "- treat the unordered token as a set\n",
    "\n",
    "Document Term Matrix\n",
    "- more efficient to turn each doc into vector of numbers, representing each time they appear in the document\n",
    "- use dot product to compare the two documents (similarity and differences)\n",
    "- use cosine similarity\n",
    "\n",
    "#### TF-IDF (proportional to frequency in a document, but inversely proportional to the number of documents the words appears in, in an attemp to highlight uniqueness)\n",
    "- term frequency x inverse document frequency"
   ]
  },
  {
   "cell_type": "markdown",
   "metadata": {},
   "source": [
    "look up applications for: word2vec, GloVe(Global Cectors for word representations), Embedding for, t-SNE, and embeddings for deep learning"
   ]
  },
  {
   "cell_type": "code",
   "execution_count": null,
   "metadata": {},
   "outputs": [],
   "source": []
  }
 ],
 "metadata": {
  "kernelspec": {
   "display_name": "Python 3",
   "language": "python",
   "name": "python3"
  },
  "language_info": {
   "codemirror_mode": {
    "name": "ipython",
    "version": 3
   },
   "file_extension": ".py",
   "mimetype": "text/x-python",
   "name": "python",
   "nbconvert_exporter": "python",
   "pygments_lexer": "ipython3",
   "version": "3.5.3"
  }
 },
 "nbformat": 4,
 "nbformat_minor": 2
}
