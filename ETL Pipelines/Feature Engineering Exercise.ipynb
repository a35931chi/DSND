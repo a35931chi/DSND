{
 "cells": [
  {
   "cell_type": "markdown",
   "metadata": {},
   "source": [
    "There are quite a few different ways to make new features including creating categorical variables from numerical variables, multiplying features together, or even gathering more data. You might also try using ratios, or taking the sum or difference between features if it made sense in the context of your data set. \n",
    "\n",
    "Let’s talk about one way of creating new features in more detail and then implement it in code: taking the polynomial of a feature. Say you have two features x, and y, To make a new feature, you could take the square of column x, the cube of column x, etcetera, and append those new features to your data set. Then, you could do the same thing with the y column.\n",
    "\n",
    "To combine the features, you might multiply them together x times y. You could then also calculate x squared times y, x times y squared, and x squared times y squared. You could keep going with higher order polynomials as well.\n",
    "\n",
    "Creating new features like this is especially useful if your model is underfitting."
   ]
  },
  {
   "cell_type": "code",
   "execution_count": null,
   "metadata": {},
   "outputs": [],
   "source": []
  }
 ],
 "metadata": {
  "kernelspec": {
   "display_name": "Python 3",
   "language": "python",
   "name": "python3"
  },
  "language_info": {
   "codemirror_mode": {
    "name": "ipython",
    "version": 3
   },
   "file_extension": ".py",
   "mimetype": "text/x-python",
   "name": "python",
   "nbconvert_exporter": "python",
   "pygments_lexer": "ipython3",
   "version": "3.5.3"
  }
 },
 "nbformat": 4,
 "nbformat_minor": 2
}
