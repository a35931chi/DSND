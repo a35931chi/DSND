{
 "cells": [
  {
   "cell_type": "markdown",
   "metadata": {},
   "source": [
    "# Dummy Variables Exercise\n",
    "\n",
    "In this exercise, you'll create dummy variables from the projects data set. The idea is to transform categorical data like this:\n",
    "\n",
    "| Project ID | Project Category |\n",
    "|------------|------------------|\n",
    "| 0          | Energy           |\n",
    "| 1          | Transportation   |\n",
    "| 2          | Health           |\n",
    "| 3          | Employment       |\n",
    "\n",
    "into new features that look like this:\n",
    "\n",
    "| Project ID | Energy | Transportation | Health | Employment |\n",
    "|------------|--------|----------------|--------|------------|\n",
    "| 0          | 1      | 0              | 0      | 0          |\n",
    "| 1          | 0      | 1              | 0      | 0          |\n",
    "| 2          | 0      | 0              | 1      | 0          |\n",
    "| 3          | 0      | 0              | 0      | 1          |\n",
    "\n",
    "\n",
    "(Note if you were going to use this data with a model influenced by multicollinearity, you would want to eliminate one of the columns to avoid redundant information.) \n",
    "\n",
    "The reasoning behind these transformations is that machine learning algorithms read in numbers not text. Text needs to be converted into numbers. You could assign a number to each category like 1, 2, 3, and 4. But categorical variable has no inherent order.\n",
    "\n",
    "Pandas makes it very easy to create dummy variables with the [get_dummies](https://pandas.pydata.org/pandas-docs/stable/generated/pandas.get_dummies.html) method. In this exercise, you'll create dummy variables from the World Bank projects data; however, there's a caveat. The World Bank data is not particularly clean, so you'll need to explore and wrangle the data first.\n",
    "\n",
    "You'll focus on the text values in the sector variables.\n",
    "\n",
    "Run the code cells below to read in the World Bank projects data set and then to filter out the data for text variables. "
   ]
  },
  {
   "cell_type": "code",
   "execution_count": 22,
   "metadata": {},
   "outputs": [],
   "source": [
    "import pandas as pd\n",
    "import numpy as np\n",
    "\n",
    "# read in the projects data set and do basic wrangling \n",
    "projects = pd.read_csv('projects_data.csv', dtype=str)\n",
    "projects.drop('Unnamed: 56', axis=1, inplace=True)\n",
    "projects['totalamt'] = pd.to_numeric(projects['totalamt'].str.replace(',', ''))\n",
    "projects['countryname'] = projects['countryname'].str.split(';', expand=True)[0]\n",
    "projects['boardapprovaldate'] = pd.to_datetime(projects['boardapprovaldate'])\n",
    "\n",
    "# keep the project name, lending, sector and theme data\n",
    "sector = projects.copy()\n",
    "sector = sector[['project_name', 'lendinginstr', 'sector1', 'sector2', 'sector3', 'sector4', 'sector5', 'sector',\n",
    "          'mjsector1', 'mjsector2', 'mjsector3', 'mjsector4', 'mjsector5',\n",
    "          'mjsector', 'theme1', 'theme2', 'theme3', 'theme4', 'theme5', 'theme ',\n",
    "          'goal', 'financier', 'mjtheme1name', 'mjtheme2name', 'mjtheme3name',\n",
    "          'mjtheme4name', 'mjtheme5name']]"
   ]
  },
  {
   "cell_type": "markdown",
   "metadata": {},
   "source": [
    "Run the code cell below. This cell shows the percentage of each variable that is null. Notice the mjsector1 through mjsector5 variables are all null. The mjtheme1name through mjtheme5name are also all null as well as the theme variable. \n",
    "\n",
    "Because these variables contain so many null values, they're probably not very useful."
   ]
  },
  {
   "cell_type": "code",
   "execution_count": 23,
   "metadata": {},
   "outputs": [
    {
     "data": {
      "text/plain": [
       "project_name      0.000000\n",
       "lendinginstr      1.348093\n",
       "sector1           0.000000\n",
       "sector2          47.791539\n",
       "sector3          64.450899\n",
       "sector4          76.019290\n",
       "sector5          85.132617\n",
       "sector            3.496274\n",
       "mjsector1       100.000000\n",
       "mjsector2       100.000000\n",
       "mjsector3       100.000000\n",
       "mjsector4       100.000000\n",
       "mjsector5       100.000000\n",
       "mjsector          3.496274\n",
       "theme1            0.000000\n",
       "theme2           46.005042\n",
       "theme3           58.987286\n",
       "theme4           71.317405\n",
       "theme5           83.954406\n",
       "theme           100.000000\n",
       "goal             33.510522\n",
       "financier        61.310829\n",
       "mjtheme1name    100.000000\n",
       "mjtheme2name    100.000000\n",
       "mjtheme3name    100.000000\n",
       "mjtheme4name    100.000000\n",
       "mjtheme5name    100.000000\n",
       "dtype: float64"
      ]
     },
     "execution_count": 23,
     "metadata": {},
     "output_type": "execute_result"
    }
   ],
   "source": [
    "# output percentage of values that are missing\n",
    "100 * sector.isnull().sum() / sector.shape[0]"
   ]
  },
  {
   "cell_type": "markdown",
   "metadata": {},
   "source": [
    "The sector1 variable looks promising; it doesn't contain any null values at all. In the next cell, store the unique sector1 values in a list and output the results. Use the sort_values() and unique() methods."
   ]
  },
  {
   "cell_type": "code",
   "execution_count": 24,
   "metadata": {},
   "outputs": [],
   "source": [
    "# TODO: Create a list of the unique values in sector1. Use the sort_values() and unique() pandas methods. \n",
    "# And then convert those results into a Python list\n",
    "uniquesectors1 = sector.sector1.sort_values().unique()\n",
    "uniquesectors1 = list(uniquesectors1)"
   ]
  },
  {
   "cell_type": "code",
   "execution_count": 25,
   "metadata": {},
   "outputs": [
    {
     "name": "stdout",
     "output_type": "stream",
     "text": [
      "Number of unique values in sector1: 3060\n"
     ]
    }
   ],
   "source": [
    "# run this code cell to see the number of unique values\n",
    "print('Number of unique values in sector1:', len(uniquesectors1))"
   ]
  },
  {
   "cell_type": "markdown",
   "metadata": {},
   "source": [
    "3060 different categories is quite a lot! Remember that with dummy variables, if you have n categorical values, you need n - 1 new variables! That means 3060 extra columns! \n",
    "\n",
    "There are a few issues with this 'sector1' variable. First, there are values labeled '!$!0'. These should be substituted with NaN.\n",
    "\n",
    "Furthermore, each sector1 value ends with a ten or eleven character string like '!$!49!$!EP'. Some sectors show up twice in the list like:\n",
    " 'Other Industry; Trade and Services!$!70!$!YZ',\n",
    " 'Other Industry; Trade and Services!$!63!$!YZ',\n",
    "\n",
    "But it seems like those are actually the same sector. You'll need to remove everything past the exclamation point. \n",
    "\n",
    "Many values in the sector1 variable start with the term '(Historic)'. Try removing that phrase as well.\n",
    "\n",
    "Fix these issues in the code cell below."
   ]
  },
  {
   "cell_type": "code",
   "execution_count": 26,
   "metadata": {},
   "outputs": [
    {
     "data": {
      "text/plain": [
       "0                           !$!0\n",
       "1                           !$!0\n",
       "2                           !$!0\n",
       "3                           !$!0\n",
       "4    Social Protection!$!63!$!SA\n",
       "Name: sector1, dtype: object"
      ]
     },
     "execution_count": 26,
     "metadata": {},
     "output_type": "execute_result"
    }
   ],
   "source": [
    "sector.sector1.head()"
   ]
  },
  {
   "cell_type": "code",
   "execution_count": 27,
   "metadata": {},
   "outputs": [
    {
     "name": "stdout",
     "output_type": "stream",
     "text": [
      "Number of unique sectors after cleaning: 156\n",
      "Percentage of null values after cleaning: 0.0\n"
     ]
    }
   ],
   "source": [
    "# TODO: In the sector1 variable, replace the string '!$10' with nan\n",
    "#       Put the results back into the sector1 variable\n",
    "# HINT: you can use the pandas replace() method and numpy.nan\n",
    "sector['sector1'] = sector['sector1'].replace('!$10', np.nan)\n",
    "\n",
    "# TODO: In the sector1 variable, remove the last 10 or 11 characters from the sector1 variable.\n",
    "# HINT: There is more than one way to do this including the replace method\n",
    "# HINT: You can use a regex expression '!.+'\n",
    "sector['sector1'] = sector['sector1'].replace('!.+', '', regex=True)\n",
    "\n",
    "# TODO: Remove the string '(Historic)' from the sector1 variable\n",
    "# HINT: You can use the replace method\n",
    "sector['sector1'] = sector['sector1'].replace('^(\\(Historic\\))', '', regex=True)\n",
    "\n",
    "print('Number of unique sectors after cleaning:', len(list(sector['sector1'].unique())))\n",
    "print('Percentage of null values after cleaning:', 100 * sector['sector1'].isnull().sum() / sector['sector1'].shape[0])"
   ]
  },
  {
   "cell_type": "code",
   "execution_count": 28,
   "metadata": {
    "scrolled": true
   },
   "outputs": [
    {
     "data": {
      "text/plain": [
       "0                                                  \n",
       "1                                                  \n",
       "2                                                  \n",
       "3                                                  \n",
       "4                                 Social Protection\n",
       "5                                                  \n",
       "6                                                  \n",
       "7                                                  \n",
       "8                                                  \n",
       "9                                                  \n",
       "10                                                 \n",
       "11                                                 \n",
       "12                                                 \n",
       "13                                                 \n",
       "14                                                 \n",
       "15                                                 \n",
       "16                                                 \n",
       "17                                                 \n",
       "18                                                 \n",
       "19                                                 \n",
       "20                                                 \n",
       "21                                                 \n",
       "22                                                 \n",
       "23                                                 \n",
       "24                                                 \n",
       "25                                  Urban Transport\n",
       "26                                                 \n",
       "27                                                 \n",
       "28                                                 \n",
       "29                      Other Public Administration\n",
       "                            ...                    \n",
       "18218                                      Highways\n",
       "18219                                       Thermal\n",
       "18220                           Economic management\n",
       "18221                   Agro-industry and marketing\n",
       "18222                               Ports/Waterways\n",
       "18223                       Irrigation and Drainage\n",
       "18224                                         Hydro\n",
       "18225    Electric power and other energy adjustment\n",
       "18226                                       Thermal\n",
       "18227                                         Hydro\n",
       "18228                                      Forestry\n",
       "18229                                      Forestry\n",
       "18230                        Agriculture adjustment\n",
       "18231                        Agriculture adjustment\n",
       "18232                                      Railways\n",
       "18233                         Industrial adjustment\n",
       "18234                     Transportation adjustment\n",
       "18235                         Industrial adjustment\n",
       "18236                                       Thermal\n",
       "18237    Electric power and other energy adjustment\n",
       "18238    Electric power and other energy adjustment\n",
       "18239                     Transportation adjustment\n",
       "18240                     Transportation adjustment\n",
       "18241                     Transportation adjustment\n",
       "18242                        Agriculture adjustment\n",
       "18243                                         Hydro\n",
       "18244                           Economic management\n",
       "18245                           Economic management\n",
       "18246                           Economic management\n",
       "18247                           Economic management\n",
       "Name: sector1, dtype: object"
      ]
     },
     "execution_count": 28,
     "metadata": {},
     "output_type": "execute_result"
    }
   ],
   "source": [
    "sector['sector1']"
   ]
  },
  {
   "cell_type": "markdown",
   "metadata": {},
   "source": [
    "Now there are 156 unique categorical values. That's better than 3060. If you were going to use this data with a supervised learning machine model, you could try converting these 159 values to dummy variables. You'd still have to train and test a model to see if those are good features.\n",
    "\n",
    "But can you do anything else with the sector1 variable?\n",
    "\n",
    "The percentage of null values for 'sector1' is now 3.49%. That turns out to be the same number as the null values for the 'sector' column. You can see this if you scroll back up to where the code calculated the percentage of null values for each variable. \n",
    "\n",
    "Perhaps the 'sector1' and 'sector' variable have the same information. If you look at the 'sector' variable, however, it also needs cleaning. The values look like this:\n",
    "\n",
    "'Urban Transport;Urban Transport;Public Administration - Transportation'\n",
    "\n",
    "It turns out the 'sector' variable combines information from the 'sector1' through 'sector5' variables and the 'mjsector' variable. Run the code cell below to look at the sector variable."
   ]
  },
  {
   "cell_type": "code",
   "execution_count": 29,
   "metadata": {
    "scrolled": true
   },
   "outputs": [
    {
     "data": {
      "text/plain": [
       "0                                                      NaN\n",
       "1                                                      NaN\n",
       "2                                                      NaN\n",
       "3                                                      NaN\n",
       "4        Social Protection;Social Protection;Other Indu...\n",
       "5                                                      NaN\n",
       "6                                                      NaN\n",
       "7                                                      NaN\n",
       "8                                                      NaN\n",
       "9                                                      NaN\n",
       "10                                                     NaN\n",
       "11                                                     NaN\n",
       "12                                                     NaN\n",
       "13                                                     NaN\n",
       "14                                                     NaN\n",
       "15                                                     NaN\n",
       "16                                                     NaN\n",
       "17                                                     NaN\n",
       "18                                                     NaN\n",
       "19                                                     NaN\n",
       "20                                                     NaN\n",
       "21                                                     NaN\n",
       "22                                                     NaN\n",
       "23                                                     NaN\n",
       "24                                                     NaN\n",
       "25       Urban Transport;Urban Transport;Public Adminis...\n",
       "26                                                     NaN\n",
       "27                                                     NaN\n",
       "28                                                     NaN\n",
       "29       Other Public Administration;Other Public Admin...\n",
       "                               ...                        \n",
       "18218                (Historic)Highways;(Historic)Highways\n",
       "18219                  (Historic)Thermal;(Historic)Thermal\n",
       "18220    (Historic)Economic management;(Historic)Econom...\n",
       "18221    (Historic)Agro-industry and marketing;(Histori...\n",
       "18222                      Ports/Waterways;Ports/Waterways\n",
       "18223      Irrigation and Drainage;Irrigation and Drainage\n",
       "18224                      (Historic)Hydro;(Historic)Hydro\n",
       "18225    (Historic)Electric power and other energy adju...\n",
       "18226                  (Historic)Thermal;(Historic)Thermal\n",
       "18227                      (Historic)Hydro;(Historic)Hydro\n",
       "18228                                    Forestry;Forestry\n",
       "18229                                    Forestry;Forestry\n",
       "18230    (Historic)Agriculture adjustment;(Historic)Agr...\n",
       "18231    (Historic)Agriculture adjustment;(Historic)Agr...\n",
       "18232                                    Railways;Railways\n",
       "18233    (Historic)Industrial adjustment;(Historic)Indu...\n",
       "18234    (Historic)Transportation adjustment;(Historic)...\n",
       "18235    (Historic)Industrial adjustment;(Historic)Indu...\n",
       "18236                  (Historic)Thermal;(Historic)Thermal\n",
       "18237    (Historic)Electric power and other energy adju...\n",
       "18238    (Historic)Electric power and other energy adju...\n",
       "18239    (Historic)Transportation adjustment;(Historic)...\n",
       "18240    (Historic)Transportation adjustment;(Historic)...\n",
       "18241    (Historic)Transportation adjustment;(Historic)...\n",
       "18242    (Historic)Agriculture adjustment;(Historic)Agr...\n",
       "18243                      (Historic)Hydro;(Historic)Hydro\n",
       "18244    (Historic)Economic management;(Historic)Econom...\n",
       "18245    (Historic)Economic management;(Historic)Econom...\n",
       "18246    (Historic)Economic management;(Historic)Econom...\n",
       "18247    (Historic)Economic management;(Historic)Econom...\n",
       "Name: sector, dtype: object"
      ]
     },
     "execution_count": 29,
     "metadata": {},
     "output_type": "execute_result"
    }
   ],
   "source": [
    "sector['sector']"
   ]
  },
  {
   "cell_type": "markdown",
   "metadata": {},
   "source": [
    "What else can you do? If you look at all of the diferent sector1 categories, it might be useful to combine a few of them together. For example, there are various categories with the term \"Energy\" in them. And then there are other categories that seem related to energy but don't have the word energy in them like \"Thermal\" and \"Hydro\". Some categories have the term \"Renewable Energy\", so perhaps you could make a separate \"Renewable Energy\" category.\n",
    "\n",
    "Similarly, there are categories with the term \"Transportation\" in them, and then there are related categories like \"Highways\".\n",
    "\n",
    "In the next cell, find all sector1 values with the term 'Energy' in them. For each of these rows, put the string 'energy' in a new column called 'sector1_aggregates'. Do the same for \"Transportation\". "
   ]
  },
  {
   "cell_type": "code",
   "execution_count": 32,
   "metadata": {
    "scrolled": true
   },
   "outputs": [
    {
     "name": "stdout",
     "output_type": "stream",
     "text": [
      "              sector1\n",
      "0                    \n",
      "1                    \n",
      "2                    \n",
      "3                    \n",
      "4   Social Protection\n",
      "5                    \n",
      "6                    \n",
      "7                    \n",
      "8                    \n",
      "9                    \n",
      "10                   \n",
      "11                   \n",
      "12                   \n",
      "13                   \n",
      "14                   \n",
      "15                   \n",
      "16                   \n",
      "17                   \n",
      "18                   \n",
      "19                   \n",
      "              sector1 sector1_aggregates\n",
      "0                                       \n",
      "1                                       \n",
      "2                                       \n",
      "3                                       \n",
      "4   Social Protection  Social Protection\n",
      "5                                       \n",
      "6                                       \n",
      "7                                       \n",
      "8                                       \n",
      "9                                       \n",
      "10                                      \n",
      "11                                      \n",
      "12                                      \n",
      "13                                      \n",
      "14                                      \n",
      "15                                      \n",
      "16                                      \n",
      "17                                      \n",
      "18                                      \n",
      "19                                      \n"
     ]
    }
   ],
   "source": [
    "import re\n",
    "\n",
    "# TODO: create a new variable called sector1_aggregates that has all of the same values from sector1\n",
    "#       Then, find all the rows with the term 'Energy' in them, \n",
    "#       and put the value 'Energy' into the sector1_aggregates column\n",
    "#       Then, do the same for the term 'Transportation\n",
    "# HINT: You can use the contains() methods. See the documentation for how to ignore case using the re library\n",
    "\n",
    "# Create the sector1_aggregates variable\n",
    "print(sector[['sector1']].head(20))\n",
    "sector.loc[:,'sector1_aggregates'] = sector['sector1'] #not sure why this is used...\n",
    "print(sector[['sector1', 'sector1_aggregates']].head(20))"
   ]
  },
  {
   "cell_type": "code",
   "execution_count": 33,
   "metadata": {
    "scrolled": true
   },
   "outputs": [
    {
     "name": "stdout",
     "output_type": "stream",
     "text": [
      "              sector1\n",
      "0                    \n",
      "1                    \n",
      "2                    \n",
      "3                    \n",
      "4   Social Protection\n",
      "5                    \n",
      "6                    \n",
      "7                    \n",
      "8                    \n",
      "9                    \n",
      "10                   \n",
      "11                   \n",
      "12                   \n",
      "13                   \n",
      "14                   \n",
      "15                   \n",
      "16                   \n",
      "17                   \n",
      "18                   \n",
      "19                   \n",
      "              sector1 sector1_aggregates\n",
      "0                                       \n",
      "1                                       \n",
      "2                                       \n",
      "3                                       \n",
      "4   Social Protection  Social Protection\n",
      "5                                       \n",
      "6                                       \n",
      "7                                       \n",
      "8                                       \n",
      "9                                       \n",
      "10                                      \n",
      "11                                      \n",
      "12                                      \n",
      "13                                      \n",
      "14                                      \n",
      "15                                      \n",
      "16                                      \n",
      "17                                      \n",
      "18                                      \n",
      "19                                      \n"
     ]
    }
   ],
   "source": [
    "print(sector[['sector1']].head(20))\n",
    "sector.loc[sector['sector1_aggregates'].str.contains('Energy', re.IGNORECASE).replace(np.nan, False), 'sector1_aggregates'] = 'Energy'\n",
    "print(sector[['sector1', 'sector1_aggregates']].head(20))"
   ]
  },
  {
   "cell_type": "code",
   "execution_count": 34,
   "metadata": {},
   "outputs": [
    {
     "name": "stdout",
     "output_type": "stream",
     "text": [
      "Number of unique sectors after cleaning: 145\n"
     ]
    }
   ],
   "source": [
    "sector.loc[sector['sector1_aggregates'].str.contains('Transportation', re.IGNORECASE).replace(np.nan, False), 'sector1_aggregates'] = 'Transportation'\n",
    "\n",
    "print('Number of unique sectors after cleaning:', len(list(sector['sector1_aggregates'].unique())))"
   ]
  },
  {
   "cell_type": "markdown",
   "metadata": {},
   "source": [
    "The number of unique sectors continues to go down. Keep in mind that how much to consolidate will depend on your machine learning model performance and your hardware's ability to handle the extra features in memory. If your hardware's memory can handle 3060 new features and your machine learning algorithm performs better, then go for it!\n",
    "\n",
    "There are still 638 entries with NaN values. How could you fill these in? You might try to determine an appropriate category from the 'project_name' or 'lendinginstr' variables. If you make dummy variables including NaN values, then you could consider a feature with all zeros to represent NaN. Or you could delete these records from the data set. Pandas will ignore NaN values by default. That means, for a given row, all dummy variables will have a value of 0 if the sector1 value was NaN.\n",
    "\n",
    "Don't forget about the bigger context! This data is being prepared for a machine learning algorithm. Whatever techniques you use to engineer new features, you'll need to use those when running your model on new data. So if your new data does not contain a sector1 value, you'll have to run whatever feature engineering processes you did on your training set.\n",
    "\n",
    "In this final set, use the pandas pd.get_dummies() method to create dummy variables. Then use the concat() method to concatenate the dummy variables to a dataframe that contains the project totalamt variable and the project year from the boardapprovaldate."
   ]
  },
  {
   "cell_type": "code",
   "execution_count": 38,
   "metadata": {},
   "outputs": [
    {
     "data": {
      "text/html": [
       "<div>\n",
       "<table border=\"1\" class=\"dataframe\">\n",
       "  <thead>\n",
       "    <tr style=\"text-align: right;\">\n",
       "      <th></th>\n",
       "      <th>totalamt</th>\n",
       "      <th>year</th>\n",
       "      <th>id</th>\n",
       "      <th>regionname</th>\n",
       "      <th>countryname</th>\n",
       "      <th>prodline</th>\n",
       "      <th>lendinginstr</th>\n",
       "      <th>lendinginstrtype</th>\n",
       "      <th>envassesmentcategorycode</th>\n",
       "      <th>supplementprojectflg</th>\n",
       "      <th>...</th>\n",
       "      <th>mjtheme3name</th>\n",
       "      <th>mjtheme4name</th>\n",
       "      <th>mjtheme5name</th>\n",
       "      <th>location</th>\n",
       "      <th>GeoLocID</th>\n",
       "      <th>GeoLocName</th>\n",
       "      <th>Latitude</th>\n",
       "      <th>Longitude</th>\n",
       "      <th>Country</th>\n",
       "      <th>year</th>\n",
       "    </tr>\n",
       "  </thead>\n",
       "  <tbody>\n",
       "    <tr>\n",
       "      <th>0</th>\n",
       "      <td>0</td>\n",
       "      <td>2018.0</td>\n",
       "      <td>P162228</td>\n",
       "      <td>Other</td>\n",
       "      <td>World</td>\n",
       "      <td>RE</td>\n",
       "      <td>Investment Project Financing</td>\n",
       "      <td>IN</td>\n",
       "      <td>C</td>\n",
       "      <td>N</td>\n",
       "      <td>...</td>\n",
       "      <td>NaN</td>\n",
       "      <td>NaN</td>\n",
       "      <td>NaN</td>\n",
       "      <td>NaN</td>\n",
       "      <td>NaN</td>\n",
       "      <td>NaN</td>\n",
       "      <td>NaN</td>\n",
       "      <td>NaN</td>\n",
       "      <td>NaN</td>\n",
       "      <td>2018.0</td>\n",
       "    </tr>\n",
       "    <tr>\n",
       "      <th>1</th>\n",
       "      <td>200000000</td>\n",
       "      <td>2018.0</td>\n",
       "      <td>P163962</td>\n",
       "      <td>Africa</td>\n",
       "      <td>Democratic Republic of the Congo</td>\n",
       "      <td>PE</td>\n",
       "      <td>Investment Project Financing</td>\n",
       "      <td>IN</td>\n",
       "      <td>B</td>\n",
       "      <td>N</td>\n",
       "      <td>...</td>\n",
       "      <td>NaN</td>\n",
       "      <td>NaN</td>\n",
       "      <td>NaN</td>\n",
       "      <td>NaN</td>\n",
       "      <td>NaN</td>\n",
       "      <td>NaN</td>\n",
       "      <td>NaN</td>\n",
       "      <td>NaN</td>\n",
       "      <td>NaN</td>\n",
       "      <td>2018.0</td>\n",
       "    </tr>\n",
       "    <tr>\n",
       "      <th>2</th>\n",
       "      <td>58330000</td>\n",
       "      <td>2018.0</td>\n",
       "      <td>P167672</td>\n",
       "      <td>South Asia</td>\n",
       "      <td>People's Republic of Bangladesh</td>\n",
       "      <td>PE</td>\n",
       "      <td>Investment Project Financing</td>\n",
       "      <td>IN</td>\n",
       "      <td>NaN</td>\n",
       "      <td>Y</td>\n",
       "      <td>...</td>\n",
       "      <td>NaN</td>\n",
       "      <td>NaN</td>\n",
       "      <td>NaN</td>\n",
       "      <td>NaN</td>\n",
       "      <td>NaN</td>\n",
       "      <td>NaN</td>\n",
       "      <td>NaN</td>\n",
       "      <td>NaN</td>\n",
       "      <td>NaN</td>\n",
       "      <td>2018.0</td>\n",
       "    </tr>\n",
       "    <tr>\n",
       "      <th>3</th>\n",
       "      <td>20000000</td>\n",
       "      <td>2018.0</td>\n",
       "      <td>P158768</td>\n",
       "      <td>South Asia</td>\n",
       "      <td>Islamic  Republic of Afghanistan</td>\n",
       "      <td>PE</td>\n",
       "      <td>Investment Project Financing</td>\n",
       "      <td>IN</td>\n",
       "      <td>A</td>\n",
       "      <td>N</td>\n",
       "      <td>...</td>\n",
       "      <td>NaN</td>\n",
       "      <td>NaN</td>\n",
       "      <td>NaN</td>\n",
       "      <td>NaN</td>\n",
       "      <td>NaN</td>\n",
       "      <td>NaN</td>\n",
       "      <td>NaN</td>\n",
       "      <td>NaN</td>\n",
       "      <td>NaN</td>\n",
       "      <td>2018.0</td>\n",
       "    </tr>\n",
       "    <tr>\n",
       "      <th>4</th>\n",
       "      <td>100000000</td>\n",
       "      <td>2018.0</td>\n",
       "      <td>P161364</td>\n",
       "      <td>Africa</td>\n",
       "      <td>Federal Republic of Nigeria</td>\n",
       "      <td>PE</td>\n",
       "      <td>Investment Project Financing</td>\n",
       "      <td>IN</td>\n",
       "      <td>B</td>\n",
       "      <td>N</td>\n",
       "      <td>...</td>\n",
       "      <td>NaN</td>\n",
       "      <td>NaN</td>\n",
       "      <td>NaN</td>\n",
       "      <td>0002327546!$!Ogun State!$!7!$!3.58333!$!NG;000...</td>\n",
       "      <td>0002327546;0002328925;0002565340;0002565343;00...</td>\n",
       "      <td>Ogun State;Niger State;Abia State;Edo;Kebbi St...</td>\n",
       "      <td>7;10;5.41667;6.5;11.5;8</td>\n",
       "      <td>3.58333;6;7.5;6;4;10.5</td>\n",
       "      <td>NG;NG;NG;NG;NG;NG</td>\n",
       "      <td>2018.0</td>\n",
       "    </tr>\n",
       "  </tbody>\n",
       "</table>\n",
       "<p>5 rows × 59 columns</p>\n",
       "</div>"
      ],
      "text/plain": [
       "    totalamt    year       id  regionname                       countryname  \\\n",
       "0          0  2018.0  P162228       Other                             World   \n",
       "1  200000000  2018.0  P163962      Africa  Democratic Republic of the Congo   \n",
       "2   58330000  2018.0  P167672  South Asia   People's Republic of Bangladesh   \n",
       "3   20000000  2018.0  P158768  South Asia  Islamic  Republic of Afghanistan   \n",
       "4  100000000  2018.0  P161364      Africa       Federal Republic of Nigeria   \n",
       "\n",
       "  prodline                  lendinginstr lendinginstrtype  \\\n",
       "0       RE  Investment Project Financing               IN   \n",
       "1       PE  Investment Project Financing               IN   \n",
       "2       PE  Investment Project Financing               IN   \n",
       "3       PE  Investment Project Financing               IN   \n",
       "4       PE  Investment Project Financing               IN   \n",
       "\n",
       "  envassesmentcategorycode supplementprojectflg   ...   mjtheme3name  \\\n",
       "0                        C                    N   ...            NaN   \n",
       "1                        B                    N   ...            NaN   \n",
       "2                      NaN                    Y   ...            NaN   \n",
       "3                        A                    N   ...            NaN   \n",
       "4                        B                    N   ...            NaN   \n",
       "\n",
       "  mjtheme4name mjtheme5name  \\\n",
       "0          NaN          NaN   \n",
       "1          NaN          NaN   \n",
       "2          NaN          NaN   \n",
       "3          NaN          NaN   \n",
       "4          NaN          NaN   \n",
       "\n",
       "                                            location  \\\n",
       "0                                                NaN   \n",
       "1                                                NaN   \n",
       "2                                                NaN   \n",
       "3                                                NaN   \n",
       "4  0002327546!$!Ogun State!$!7!$!3.58333!$!NG;000...   \n",
       "\n",
       "                                            GeoLocID  \\\n",
       "0                                                NaN   \n",
       "1                                                NaN   \n",
       "2                                                NaN   \n",
       "3                                                NaN   \n",
       "4  0002327546;0002328925;0002565340;0002565343;00...   \n",
       "\n",
       "                                          GeoLocName                 Latitude  \\\n",
       "0                                                NaN                      NaN   \n",
       "1                                                NaN                      NaN   \n",
       "2                                                NaN                      NaN   \n",
       "3                                                NaN                      NaN   \n",
       "4  Ogun State;Niger State;Abia State;Edo;Kebbi St...  7;10;5.41667;6.5;11.5;8   \n",
       "\n",
       "                Longitude            Country    year  \n",
       "0                     NaN                NaN  2018.0  \n",
       "1                     NaN                NaN  2018.0  \n",
       "2                     NaN                NaN  2018.0  \n",
       "3                     NaN                NaN  2018.0  \n",
       "4  3.58333;6;7.5;6;4;10.5  NG;NG;NG;NG;NG;NG  2018.0  \n",
       "\n",
       "[5 rows x 59 columns]"
      ]
     },
     "execution_count": 38,
     "metadata": {},
     "output_type": "execute_result"
    }
   ],
   "source": [
    "# TODO: Create dummy variables from the sector1_aggregates data. Put the results into a dataframe called dummies\n",
    "# Hint: Use the get_dummies method\n",
    "dummies = pd.get_dummies(sector[['sector1_aggregates']])\n",
    "\n",
    "# TODO: Create a new dataframe called df by \n",
    "#       filtering the projects data for the totalamt and\n",
    "#       the year from boardapprovaldate\n",
    "projects['year'] = projects['boardapprovaldate'].dt.year\n",
    "df = projects[['totalamt', 'year']]\n",
    "\n",
    "# TODO: Concatenate the results of dummies and projects\n",
    "#       into a single data frame\n",
    "df_final = pd.concat([df, projects], axis = 1)\n",
    "\n",
    "df_final.head()"
   ]
  },
  {
   "cell_type": "markdown",
   "metadata": {},
   "source": [
    "# Conclusion\n",
    "\n",
    "Pandas makes it relatively easy to create dummy variables; however, oftentimes you'll need to clean the data first."
   ]
  },
  {
   "cell_type": "code",
   "execution_count": null,
   "metadata": {},
   "outputs": [],
   "source": []
  }
 ],
 "metadata": {
  "kernelspec": {
   "display_name": "Python 3",
   "language": "python",
   "name": "python3"
  },
  "language_info": {
   "codemirror_mode": {
    "name": "ipython",
    "version": 3
   },
   "file_extension": ".py",
   "mimetype": "text/x-python",
   "name": "python",
   "nbconvert_exporter": "python",
   "pygments_lexer": "ipython3",
   "version": "3.5.3"
  }
 },
 "nbformat": 4,
 "nbformat_minor": 2
}
