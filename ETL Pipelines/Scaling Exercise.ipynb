{
 "cells": [
  {
   "cell_type": "markdown",
   "metadata": {},
   "source": [
    "Two common ways to scale features are called rescaling and standardization. \n",
    "\n",
    "- With rescaling, you take your data, and scale down the range so that the minimum value is zero and the maximum value is one. The distribution of the data remains the same but the range changes. \n",
    "- With standardization, you transform the data so that it has a mean of zero and a standard deviation of one. Again the general shape of the distribution remains the same, which means the information contained in the data hasn’t changed. However, the mean and standard deviation have been standardized. "
   ]
  },
  {
   "cell_type": "code",
   "execution_count": null,
   "metadata": {},
   "outputs": [],
   "source": []
  }
 ],
 "metadata": {
  "kernelspec": {
   "display_name": "Python 3",
   "language": "python",
   "name": "python3"
  },
  "language_info": {
   "codemirror_mode": {
    "name": "ipython",
    "version": 3
   },
   "file_extension": ".py",
   "mimetype": "text/x-python",
   "name": "python",
   "nbconvert_exporter": "python",
   "pygments_lexer": "ipython3",
   "version": "3.5.3"
  }
 },
 "nbformat": 4,
 "nbformat_minor": 2
}
