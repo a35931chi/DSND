{
 "cells": [
  {
   "cell_type": "markdown",
   "metadata": {},
   "source": [
    "Basic JavaScript Syntax\n",
    "\n",
    "Here are a few rules to keep in mind when writing JavaScript:\n",
    "\n",
    "    a line of code ends with a semi-colon ;\n",
    "    () parenthesis are used when calling a function much like in Python\n",
    "    {} curly braces surround large chunks of code or are used when initializing dictionaries\n",
    "    [] square brackets are used for accessing values from arrays or dictionaries much like in Python\n",
    "\n",
    "Here is an example of a JavaScript function that sums the elements of an array."
   ]
  },
  {
   "cell_type": "code",
   "execution_count": null,
   "metadata": {},
   "outputs": [],
   "source": [
    "function addValues(x) {\n",
    "  var sum_array = 0;\n",
    "  for (var i=0; i < x.length; i++) {   \n",
    "    sum_array += x[i];\n",
    "  }\n",
    "  return sum_array;\n",
    "}\n",
    "\n",
    "addValues([3,4,5,6]);"
   ]
  },
  {
   "cell_type": "code",
   "execution_count": null,
   "metadata": {},
   "outputs": [],
   "source": [
    "function headFunction() {\n",
    "            document.getElementsByTagName(\"h1\")[0].innerHTML = \n",
    "                  \"A Photo of a Breathtaking View\";\n",
    "        }\n",
    "\n",
    "<img src=\"image.jpg\" onclick=\"headFunction()\">\n",
    "\n",
    "         $(document).ready(function(){\n",
    "            $(\"img\").click(function(){\n",
    "                $(\"h1\").text(\"A Photo of a Breathtaking View\");\n",
    "            });\n",
    "        });"
   ]
  },
  {
   "cell_type": "markdown",
   "metadata": {},
   "source": [
    "### Javascript Exercise"
   ]
  },
  {
   "cell_type": "code",
   "execution_count": null,
   "metadata": {},
   "outputs": [],
   "source": [
    "/*\n",
    "TODO: Currently, the opacity of the ul element is set to zero.\n",
    "You can see this in the style.css file. Hence, the tasks are not showing up.\n",
    "\n",
    "Write jQuery code that does the following:\n",
    "- when clicking on the word \"tasks\" in the sentence, \"these are my tasks\", fade in the ul element\n",
    "- hint: if you look at the html, the word tasks is surrounded by a span element with an id called \"fade_in_tasks\".\n",
    "- hint: https://api.jquery.com/id-selector/\n",
    "- hint: https://api.jquery.com/click/\n",
    "- hint: http://api.jquery.com/fadein/\n",
    "- hint: Don't forget to write code that waits for the html document to load. Re-watch the javascript screencast if you're stuck.\n",
    "*/\n",
    "\n",
    "\n",
    "$(document).ready(function () {\n",
    "\t$('#fade_in_tasks').click(function() {\n",
    "\t\t$('ul').fadeIn();\n",
    "\t});\n",
    "});"
   ]
  }
 ],
 "metadata": {
  "kernelspec": {
   "display_name": "Python 3",
   "language": "python",
   "name": "python3"
  },
  "language_info": {
   "codemirror_mode": {
    "name": "ipython",
    "version": 3
   },
   "file_extension": ".py",
   "mimetype": "text/x-python",
   "name": "python",
   "nbconvert_exporter": "python",
   "pygments_lexer": "ipython3",
   "version": "3.5.4"
  }
 },
 "nbformat": 4,
 "nbformat_minor": 2
}
