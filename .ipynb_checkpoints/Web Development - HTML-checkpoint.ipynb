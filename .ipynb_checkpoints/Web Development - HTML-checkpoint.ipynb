{
 "cells": [
  {
   "cell_type": "markdown",
   "metadata": {},
   "source": [
    "### Web Development"
   ]
  },
  {
   "cell_type": "markdown",
   "metadata": {},
   "source": [
    "HTML example"
   ]
  },
  {
   "cell_type": "code",
   "execution_count": null,
   "metadata": {},
   "outputs": [],
   "source": [
    "<!DOCTYPE html>\n",
    "<!-- This is an html comment -->\n",
    "<html>\n",
    "\n",
    "<head>\n",
    "    <title>Page Title</title>\n",
    "</head>\n",
    "\n",
    "<body>\n",
    "    <h1>A Photo of a Beautiful Landscape</h1>\n",
    "    <a href=\"https://www.w3schools.com/tags\">HTML tags</a>\n",
    "    <p>Here is the photo</p>\n",
    "    <img src=\"photo.jpg\" alt=\"Country Landscape\">\n",
    "</body>\n",
    "\n",
    "</html>"
   ]
  },
  {
   "cell_type": "markdown",
   "metadata": {},
   "source": [
    "an index.html example"
   ]
  },
  {
   "cell_type": "code",
   "execution_count": null,
   "metadata": {},
   "outputs": [],
   "source": [
    "<! DOCTYPE html>\n",
    "\n",
    "<html>\n",
    "  \n",
    "  <head>\n",
    "    \n",
    "    <!-- TODO: Add a title tag and use the title 'My Udacity Task List' -->\n",
    "    \n",
    "  </head>\n",
    "  <body>\n",
    "    <!-- TODO: Add a header tag, h1. The h1 should say \"Today's TODO list' -->\n",
    "    <h1>Today's TODO list</h1>\n",
    "    <!-- TODO: Notice that the workspace folder contains the Udacity logo in a file called udacity.png. Insert the image here -->\n",
    "    <img src = \"udacity_logo.png\">\n",
    "    <!-- TODO: Use a link tag to link to the Udacity website https://www.udacity.com --Make sure to add text in-between the opening and closing tags.>\n",
    "<a href = \"https://www.udacity.com\">some texts</a>\n",
    "    <!-- TODO: Use a paragraph tag. Inside the paragraph tag, introduce yourself -->\n",
    "    <p>Hi this is anthony, a data scientist in the making</p>\n",
    "   \t<!-- TODO: Make an unordered list containing at least three items that you plan to do this week to progress in the nanodgree. Look up the syntax for unordered lists if you're not sure how to do this.   -->\n",
    "\t<ul>\n",
    "      <li>apply what you learned in SVM</li>\n",
    "      <li>progress in the ensemble section</li>\n",
    "      <li>update github</li>\n",
    "    </ul>\n",
    "    <!-- TODO: Get creative and add anything else youl would like to add. The W3Schools website has a wealth of information about html tags. See: https://www.w3schools.com/tags -->\n",
    "    <p>isn't there software that perform these tasks</p>\n",
    "  </body>\n",
    "  \n",
    "</html>"
   ]
  },
  {
   "cell_type": "markdown",
   "metadata": {},
   "source": [
    "Practice div and span"
   ]
  },
  {
   "cell_type": "code",
   "execution_count": null,
   "metadata": {},
   "outputs": [],
   "source": [
    "<div id=\"top\">\n",
    "    <p class=\"first_paragraph\">First paragraph of the section</p>\n",
    "    <p class=\"second_paragraph\">Second paragraph of the section</p>\n",
    "</div>\n",
    "\n",
    "<div id=\"bottom\">\n",
    "    <p class=\"first_paragraph\">First paragraph of the section</p>\n",
    "    <p class=\"second_paragraph\">Second paragraph of the section</p>\n",
    "</div>"
   ]
  },
  {
   "cell_type": "code",
   "execution_count": null,
   "metadata": {},
   "outputs": [],
   "source": [
    "<! DOCTYPE html>\n",
    "\n",
    "<html>\n",
    "  \n",
    "  <head>\n",
    "    <title>Udacity Task List</title>\n",
    "  </head>\n",
    "  <body>\n",
    "    <h1>Today's TODO list</h1>\n",
    "    <img src='udacity_logo.png' alt='Udacity Logo'>\n",
    "    <!-- TODO: add an id to the Udacity link tag -->\n",
    "    <a href=\"https://www.udacity.com\">Udacity</a>    \n",
    "    <!-- TODO: Wrap the following paragraphs and list with a \n",
    "       div tag. Add an id to the div tag called main-content -->\n",
    "    <div id = \"main-content\">\n",
    "    <!-- TODO: add a class to the the next two paragraphs\n",
    "after this comment. Call the class bold-paragraph -->\n",
    "    \n",
    "      <p class = \"bold-paragraph\">Hi, my name is Andrew.</p>\n",
    "      <p class = \"bold-paragraph\">I am a Udacity student from Los Angeles, California</p>\n",
    "      <p>I'm currently studying for the data scientist nanodegree program</p>\n",
    "      <p>These are my tasks:</p>\n",
    "      <ul>\n",
    "          <li>Watch ten videos</li>\n",
    "          <li>Answer all the quizzes</li>\n",
    "          <li>Work on the project for 2 hours</li>\n",
    "      </ul>\n",
    "      <p>Here is a table of the tasks that I've completed this week</p>\n",
    "    </div>\n",
    "    <table>\n",
    "      <caption>Breakdown of Tasks Completed</caption>\n",
    "      <tr>\n",
    "        <th>Day</th>\n",
    "        <th>Tasks Completed</th>\n",
    "      </tr>\n",
    "      <tr>\n",
    "        <td>Monday</td>\n",
    "        <td>Completed five concepts</td>\n",
    "      </tr>\n",
    "      <tr>\n",
    "        <td>Tuesday</td>\n",
    "        <td>Did three quizzes</td>\n",
    "    </table>\n",
    "\n",
    "    <br>\n",
    "    <nav>\n",
    "      <a href=\"https://www.w3schools.com/html/\">HTML</a> |\n",
    "      <a href=\"https://www.w3schools.com/w3css/\">CSS</a> |\n",
    "      <a href=\"https://www.w3schools.com/js/default.asp\">JavaScript</a> |\n",
    "      <a href=\"https://www.w3schools.com/Jquery/default.asp\">jQuery</a>\n",
    "\t</nav>\n",
    "  </body>\n",
    "  \n",
    "</html>"
   ]
  },
  {
   "cell_type": "code",
   "execution_count": null,
   "metadata": {},
   "outputs": [],
   "source": []
  }
 ],
 "metadata": {
  "kernelspec": {
   "display_name": "Python 3",
   "language": "python",
   "name": "python3"
  },
  "language_info": {
   "codemirror_mode": {
    "name": "ipython",
    "version": 3
   },
   "file_extension": ".py",
   "mimetype": "text/x-python",
   "name": "python",
   "nbconvert_exporter": "python",
   "pygments_lexer": "ipython3",
   "version": "3.5.4"
  }
 },
 "nbformat": 4,
 "nbformat_minor": 2
}
